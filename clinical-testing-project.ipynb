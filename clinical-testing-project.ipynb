{
 "cells": [
  {
   "cell_type": "code",
   "execution_count": 1,
   "id": "fe603d92",
   "metadata": {
    "_cell_guid": "b1076dfc-b9ad-4769-8c92-a6c4dae69d19",
    "_uuid": "8f2839f25d086af736a60e9eeb907d3b93b6e0e5",
    "execution": {
     "iopub.execute_input": "2024-07-11T18:41:15.711833Z",
     "iopub.status.busy": "2024-07-11T18:41:15.711483Z",
     "iopub.status.idle": "2024-07-11T18:41:18.511729Z",
     "shell.execute_reply": "2024-07-11T18:41:18.510915Z"
    },
    "papermill": {
     "duration": 2.8222,
     "end_time": "2024-07-11T18:41:18.514116",
     "exception": false,
     "start_time": "2024-07-11T18:41:15.691916",
     "status": "completed"
    },
    "tags": []
   },
   "outputs": [],
   "source": [
    "import pandas as pd\n",
    "import numpy as np\n",
    "import scipy.stats as stats\n",
    "import matplotlib as mpl\n",
    "import matplotlib.pyplot as plt\n",
    "import plotly.express as px\n",
    "import plotly.graph_objects as go\n",
    "from imblearn.over_sampling import RandomOverSampler\n",
    "from imblearn.under_sampling import RandomUnderSampler\n",
    "from collections import Counter\n",
    "from sklearn.model_selection import train_test_split\n",
    "from sklearn.preprocessing import StandardScaler, LabelEncoder\n",
    "from sklearn.model_selection import cross_val_score, RepeatedKFold\n",
    "from sklearn.linear_model import LogisticRegression\n",
    "from sklearn.tree import DecisionTreeClassifier \n",
    "from sklearn.ensemble import BaggingClassifier\n",
    "from sklearn.svm import SVC \n",
    "from sklearn.neighbors import KNeighborsClassifier \n",
    "from sklearn.naive_bayes import GaussianNB \n",
    "from sklearn.model_selection import GridSearchCV\n",
    "from sklearn.metrics import accuracy_score, f1_score, precision_score, recall_score, confusion_matrix\n",
    "from sklearn.metrics import roc_auc_score, roc_curve"
   ]
  },
  {
   "cell_type": "code",
   "execution_count": 2,
   "id": "1226d581",
   "metadata": {
    "execution": {
     "iopub.execute_input": "2024-07-11T18:41:18.551374Z",
     "iopub.status.busy": "2024-07-11T18:41:18.550649Z",
     "iopub.status.idle": "2024-07-11T18:41:18.898199Z",
     "shell.execute_reply": "2024-07-11T18:41:18.897302Z"
    },
    "papermill": {
     "duration": 0.368086,
     "end_time": "2024-07-11T18:41:18.900223",
     "exception": false,
     "start_time": "2024-07-11T18:41:18.532137",
     "status": "completed"
    },
    "tags": []
   },
   "outputs": [
    {
     "data": {
      "text/html": [
       "<div>\n",
       "<style scoped>\n",
       "    .dataframe tbody tr th:only-of-type {\n",
       "        vertical-align: middle;\n",
       "    }\n",
       "\n",
       "    .dataframe tbody tr th {\n",
       "        vertical-align: top;\n",
       "    }\n",
       "\n",
       "    .dataframe thead th {\n",
       "        text-align: right;\n",
       "    }\n",
       "</style>\n",
       "<table border=\"1\" class=\"dataframe\">\n",
       "  <thead>\n",
       "    <tr style=\"text-align: right;\">\n",
       "      <th></th>\n",
       "      <th>index</th>\n",
       "      <th>NCT</th>\n",
       "      <th>Sponsor</th>\n",
       "      <th>Title</th>\n",
       "      <th>Summary</th>\n",
       "      <th>Start_Year</th>\n",
       "      <th>Start_Month</th>\n",
       "      <th>Phase</th>\n",
       "      <th>Enrollment</th>\n",
       "      <th>Status</th>\n",
       "      <th>Condition</th>\n",
       "    </tr>\n",
       "  </thead>\n",
       "  <tbody>\n",
       "    <tr>\n",
       "      <th>0</th>\n",
       "      <td>0</td>\n",
       "      <td>NCT00003305</td>\n",
       "      <td>Sanofi</td>\n",
       "      <td>A Phase II Trial of Aminopterin in Adults and ...</td>\n",
       "      <td>RATIONALE: Drugs used in chemotherapy use diff...</td>\n",
       "      <td>1997</td>\n",
       "      <td>7</td>\n",
       "      <td>Phase 2</td>\n",
       "      <td>75</td>\n",
       "      <td>Completed</td>\n",
       "      <td>Leukemia</td>\n",
       "    </tr>\n",
       "    <tr>\n",
       "      <th>1</th>\n",
       "      <td>1</td>\n",
       "      <td>NCT00003821</td>\n",
       "      <td>Sanofi</td>\n",
       "      <td>Phase II Trial of Aminopterin in Patients With...</td>\n",
       "      <td>RATIONALE: Drugs used in chemotherapy use diff...</td>\n",
       "      <td>1998</td>\n",
       "      <td>1</td>\n",
       "      <td>Phase 2</td>\n",
       "      <td>0</td>\n",
       "      <td>Withdrawn</td>\n",
       "      <td>Endometrial Neoplasms</td>\n",
       "    </tr>\n",
       "    <tr>\n",
       "      <th>2</th>\n",
       "      <td>2</td>\n",
       "      <td>NCT00004025</td>\n",
       "      <td>Sanofi</td>\n",
       "      <td>Phase I/II Trial of the Safety, Immunogenicity...</td>\n",
       "      <td>RATIONALE: Vaccines made from a person's white...</td>\n",
       "      <td>1999</td>\n",
       "      <td>3</td>\n",
       "      <td>Phase 1/Phase 2</td>\n",
       "      <td>36</td>\n",
       "      <td>Unknown status</td>\n",
       "      <td>Melanoma</td>\n",
       "    </tr>\n",
       "    <tr>\n",
       "      <th>3</th>\n",
       "      <td>3</td>\n",
       "      <td>NCT00005645</td>\n",
       "      <td>Sanofi</td>\n",
       "      <td>Phase II Trial of ILX295501 Administered Orall...</td>\n",
       "      <td>RATIONALE: Drugs used in chemotherapy use diff...</td>\n",
       "      <td>1999</td>\n",
       "      <td>5</td>\n",
       "      <td>Phase 2</td>\n",
       "      <td>0</td>\n",
       "      <td>Withdrawn</td>\n",
       "      <td>Ovarian Neoplasms</td>\n",
       "    </tr>\n",
       "    <tr>\n",
       "      <th>4</th>\n",
       "      <td>4</td>\n",
       "      <td>NCT00008281</td>\n",
       "      <td>Sanofi</td>\n",
       "      <td>A Multicenter, Open-Label, Randomized, Three-A...</td>\n",
       "      <td>RATIONALE: Drugs used in chemotherapy use diff...</td>\n",
       "      <td>2000</td>\n",
       "      <td>10</td>\n",
       "      <td>Phase 3</td>\n",
       "      <td>0</td>\n",
       "      <td>Unknown status</td>\n",
       "      <td>Colorectal Neoplasms</td>\n",
       "    </tr>\n",
       "  </tbody>\n",
       "</table>\n",
       "</div>"
      ],
      "text/plain": [
       "   index          NCT Sponsor  \\\n",
       "0      0  NCT00003305  Sanofi   \n",
       "1      1  NCT00003821  Sanofi   \n",
       "2      2  NCT00004025  Sanofi   \n",
       "3      3  NCT00005645  Sanofi   \n",
       "4      4  NCT00008281  Sanofi   \n",
       "\n",
       "                                               Title  \\\n",
       "0  A Phase II Trial of Aminopterin in Adults and ...   \n",
       "1  Phase II Trial of Aminopterin in Patients With...   \n",
       "2  Phase I/II Trial of the Safety, Immunogenicity...   \n",
       "3  Phase II Trial of ILX295501 Administered Orall...   \n",
       "4  A Multicenter, Open-Label, Randomized, Three-A...   \n",
       "\n",
       "                                             Summary  Start_Year  Start_Month  \\\n",
       "0  RATIONALE: Drugs used in chemotherapy use diff...        1997            7   \n",
       "1  RATIONALE: Drugs used in chemotherapy use diff...        1998            1   \n",
       "2  RATIONALE: Vaccines made from a person's white...        1999            3   \n",
       "3  RATIONALE: Drugs used in chemotherapy use diff...        1999            5   \n",
       "4  RATIONALE: Drugs used in chemotherapy use diff...        2000           10   \n",
       "\n",
       "             Phase  Enrollment          Status              Condition  \n",
       "0          Phase 2          75       Completed               Leukemia  \n",
       "1          Phase 2           0       Withdrawn  Endometrial Neoplasms  \n",
       "2  Phase 1/Phase 2          36  Unknown status               Melanoma  \n",
       "3          Phase 2           0       Withdrawn      Ovarian Neoplasms  \n",
       "4          Phase 3           0  Unknown status   Colorectal Neoplasms  "
      ]
     },
     "execution_count": 2,
     "metadata": {},
     "output_type": "execute_result"
    }
   ],
   "source": [
    "df = pd.read_csv('/kaggle/input/a-quick-overview-of-clinical-trials/AERO-BirdsEye-Data.csv')\n",
    "df.head()"
   ]
  },
  {
   "cell_type": "code",
   "execution_count": 3,
   "id": "ff3c04ed",
   "metadata": {
    "execution": {
     "iopub.execute_input": "2024-07-11T18:41:18.939027Z",
     "iopub.status.busy": "2024-07-11T18:41:18.938468Z",
     "iopub.status.idle": "2024-07-11T18:41:18.942924Z",
     "shell.execute_reply": "2024-07-11T18:41:18.942052Z"
    },
    "papermill": {
     "duration": 0.024989,
     "end_time": "2024-07-11T18:41:18.944890",
     "exception": false,
     "start_time": "2024-07-11T18:41:18.919901",
     "status": "completed"
    },
    "tags": []
   },
   "outputs": [],
   "source": [
    "# top10 = pd.DataFrame(df.groupby('Condition').size().sort_values(ascending = True).tail(10))\n",
    "# top10.columns = ['Total Trials']\n",
    "\n",
    "# fig4 = px.bar(top10,\n",
    "#               title = '<b> The 10 Most Studied Conditions<b>',\n",
    "#               color_discrete_sequence = px.colors.qualitative.Pastel,\n",
    "#               labels = {'value' : 'Total Trials'},\n",
    "#               orientation = 'h',\n",
    "#               height = 700,\n",
    "#               width = 800)\n",
    "\n",
    "# fig4.update_layout(title_x = .5, \n",
    "#                    title_y = .9, \n",
    "#                    font = dict(size = 14))\n",
    "# fig4.update(layout_showlegend = False)\n",
    "\n",
    "# fig4.show()"
   ]
  },
  {
   "cell_type": "code",
   "execution_count": 4,
   "id": "1118705e",
   "metadata": {
    "execution": {
     "iopub.execute_input": "2024-07-11T18:41:18.981164Z",
     "iopub.status.busy": "2024-07-11T18:41:18.980876Z",
     "iopub.status.idle": "2024-07-11T18:41:18.986289Z",
     "shell.execute_reply": "2024-07-11T18:41:18.985502Z"
    },
    "papermill": {
     "duration": 0.025645,
     "end_time": "2024-07-11T18:41:18.988137",
     "exception": false,
     "start_time": "2024-07-11T18:41:18.962492",
     "status": "completed"
    },
    "tags": []
   },
   "outputs": [
    {
     "data": {
      "text/plain": [
       "(13748, 11)"
      ]
     },
     "execution_count": 4,
     "metadata": {},
     "output_type": "execute_result"
    }
   ],
   "source": [
    "df.shape"
   ]
  },
  {
   "cell_type": "code",
   "execution_count": 5,
   "id": "d3ae6c8f",
   "metadata": {
    "execution": {
     "iopub.execute_input": "2024-07-11T18:41:19.024535Z",
     "iopub.status.busy": "2024-07-11T18:41:19.024239Z",
     "iopub.status.idle": "2024-07-11T18:41:19.030919Z",
     "shell.execute_reply": "2024-07-11T18:41:19.030124Z"
    },
    "papermill": {
     "duration": 0.026991,
     "end_time": "2024-07-11T18:41:19.032831",
     "exception": false,
     "start_time": "2024-07-11T18:41:19.005840",
     "status": "completed"
    },
    "tags": []
   },
   "outputs": [
    {
     "data": {
      "text/plain": [
       "index           int64\n",
       "NCT            object\n",
       "Sponsor        object\n",
       "Title          object\n",
       "Summary        object\n",
       "Start_Year      int64\n",
       "Start_Month     int64\n",
       "Phase          object\n",
       "Enrollment      int64\n",
       "Status         object\n",
       "Condition      object\n",
       "dtype: object"
      ]
     },
     "execution_count": 5,
     "metadata": {},
     "output_type": "execute_result"
    }
   ],
   "source": [
    "df.dtypes"
   ]
  },
  {
   "cell_type": "code",
   "execution_count": 6,
   "id": "746f7c9e",
   "metadata": {
    "execution": {
     "iopub.execute_input": "2024-07-11T18:41:19.069662Z",
     "iopub.status.busy": "2024-07-11T18:41:19.069381Z",
     "iopub.status.idle": "2024-07-11T18:41:19.078044Z",
     "shell.execute_reply": "2024-07-11T18:41:19.077255Z"
    },
    "papermill": {
     "duration": 0.02942,
     "end_time": "2024-07-11T18:41:19.080051",
     "exception": false,
     "start_time": "2024-07-11T18:41:19.050631",
     "status": "completed"
    },
    "tags": []
   },
   "outputs": [
    {
     "data": {
      "text/plain": [
       "array(['Completed', 'Withdrawn', 'Unknown status', 'Terminated',\n",
       "       'Recruiting', 'Active, not recruiting', 'Enrolling by invitation',\n",
       "       'Not yet recruiting', 'Suspended'], dtype=object)"
      ]
     },
     "execution_count": 6,
     "metadata": {},
     "output_type": "execute_result"
    }
   ],
   "source": [
    "df['Status'].unique()"
   ]
  },
  {
   "cell_type": "code",
   "execution_count": 7,
   "id": "523edb31",
   "metadata": {
    "execution": {
     "iopub.execute_input": "2024-07-11T18:41:19.118582Z",
     "iopub.status.busy": "2024-07-11T18:41:19.118082Z",
     "iopub.status.idle": "2024-07-11T18:41:19.128898Z",
     "shell.execute_reply": "2024-07-11T18:41:19.128050Z"
    },
    "papermill": {
     "duration": 0.032069,
     "end_time": "2024-07-11T18:41:19.130903",
     "exception": false,
     "start_time": "2024-07-11T18:41:19.098834",
     "status": "completed"
    },
    "tags": []
   },
   "outputs": [
    {
     "data": {
      "text/plain": [
       "19"
      ]
     },
     "execution_count": 7,
     "metadata": {},
     "output_type": "execute_result"
    }
   ],
   "source": [
    "len(df[df['Status'] == 'Unknown status'])"
   ]
  },
  {
   "cell_type": "code",
   "execution_count": 8,
   "id": "86b9a7f7",
   "metadata": {
    "execution": {
     "iopub.execute_input": "2024-07-11T18:41:19.168130Z",
     "iopub.status.busy": "2024-07-11T18:41:19.167884Z",
     "iopub.status.idle": "2024-07-11T18:41:19.176182Z",
     "shell.execute_reply": "2024-07-11T18:41:19.175500Z"
    },
    "papermill": {
     "duration": 0.029081,
     "end_time": "2024-07-11T18:41:19.177977",
     "exception": false,
     "start_time": "2024-07-11T18:41:19.148896",
     "status": "completed"
    },
    "tags": []
   },
   "outputs": [],
   "source": [
    "df = df[df['Status'] != 'Unknown status']"
   ]
  },
  {
   "cell_type": "code",
   "execution_count": 9,
   "id": "4a7d0f61",
   "metadata": {
    "execution": {
     "iopub.execute_input": "2024-07-11T18:41:19.215974Z",
     "iopub.status.busy": "2024-07-11T18:41:19.215685Z",
     "iopub.status.idle": "2024-07-11T18:41:19.227312Z",
     "shell.execute_reply": "2024-07-11T18:41:19.226430Z"
    },
    "papermill": {
     "duration": 0.032848,
     "end_time": "2024-07-11T18:41:19.229295",
     "exception": false,
     "start_time": "2024-07-11T18:41:19.196447",
     "status": "completed"
    },
    "tags": []
   },
   "outputs": [],
   "source": [
    "# Values to replace\n",
    "values_to_replace = ['Completed', 'Withdrawn', 'Terminated', 'Suspended']\n",
    "\n",
    "# Replacement value\n",
    "replacement_value = 0\n",
    "\n",
    "# Replace values in the 'status' column\n",
    "df['Status'] = df['Status'].replace(values_to_replace, replacement_value)"
   ]
  },
  {
   "cell_type": "code",
   "execution_count": 10,
   "id": "6659793e",
   "metadata": {
    "execution": {
     "iopub.execute_input": "2024-07-11T18:41:19.267181Z",
     "iopub.status.busy": "2024-07-11T18:41:19.266894Z",
     "iopub.status.idle": "2024-07-11T18:41:19.284543Z",
     "shell.execute_reply": "2024-07-11T18:41:19.283720Z"
    },
    "papermill": {
     "duration": 0.03914,
     "end_time": "2024-07-11T18:41:19.286738",
     "exception": false,
     "start_time": "2024-07-11T18:41:19.247598",
     "status": "completed"
    },
    "tags": []
   },
   "outputs": [
    {
     "name": "stderr",
     "output_type": "stream",
     "text": [
      "/tmp/ipykernel_24/90739017.py:8: FutureWarning: Downcasting behavior in `replace` is deprecated and will be removed in a future version. To retain the old behavior, explicitly call `result.infer_objects(copy=False)`. To opt-in to the future behavior, set `pd.set_option('future.no_silent_downcasting', True)`\n",
      "  df['Status'] = df['Status'].replace(values_to_replace, replacement_value)\n"
     ]
    }
   ],
   "source": [
    "# Values to replace\n",
    "values_to_replace = ['Recruiting', 'Active, not recruiting', 'Enrolling by invitation', 'Not yet recruiting']\n",
    "\n",
    "# Replacement value\n",
    "replacement_value = 1\n",
    "\n",
    "# Replace values in the 'status' column\n",
    "df['Status'] = df['Status'].replace(values_to_replace, replacement_value)"
   ]
  },
  {
   "cell_type": "code",
   "execution_count": 11,
   "id": "9bb2c83a",
   "metadata": {
    "execution": {
     "iopub.execute_input": "2024-07-11T18:41:19.324367Z",
     "iopub.status.busy": "2024-07-11T18:41:19.324089Z",
     "iopub.status.idle": "2024-07-11T18:41:19.330599Z",
     "shell.execute_reply": "2024-07-11T18:41:19.329788Z"
    },
    "papermill": {
     "duration": 0.027436,
     "end_time": "2024-07-11T18:41:19.332639",
     "exception": false,
     "start_time": "2024-07-11T18:41:19.305203",
     "status": "completed"
    },
    "tags": []
   },
   "outputs": [
    {
     "data": {
      "text/plain": [
       "index           int64\n",
       "NCT            object\n",
       "Sponsor        object\n",
       "Title          object\n",
       "Summary        object\n",
       "Start_Year      int64\n",
       "Start_Month     int64\n",
       "Phase          object\n",
       "Enrollment      int64\n",
       "Status          int64\n",
       "Condition      object\n",
       "dtype: object"
      ]
     },
     "execution_count": 11,
     "metadata": {},
     "output_type": "execute_result"
    }
   ],
   "source": [
    "df.dtypes"
   ]
  },
  {
   "cell_type": "code",
   "execution_count": 12,
   "id": "dc265305",
   "metadata": {
    "execution": {
     "iopub.execute_input": "2024-07-11T18:41:19.369992Z",
     "iopub.status.busy": "2024-07-11T18:41:19.369729Z",
     "iopub.status.idle": "2024-07-11T18:41:19.386954Z",
     "shell.execute_reply": "2024-07-11T18:41:19.386102Z"
    },
    "papermill": {
     "duration": 0.038172,
     "end_time": "2024-07-11T18:41:19.388899",
     "exception": false,
     "start_time": "2024-07-11T18:41:19.350727",
     "status": "completed"
    },
    "tags": []
   },
   "outputs": [
    {
     "data": {
      "text/plain": [
       "index            0\n",
       "NCT              0\n",
       "Sponsor          0\n",
       "Title          144\n",
       "Summary          0\n",
       "Start_Year       0\n",
       "Start_Month      0\n",
       "Phase          261\n",
       "Enrollment       0\n",
       "Status           0\n",
       "Condition        0\n",
       "dtype: int64"
      ]
     },
     "execution_count": 12,
     "metadata": {},
     "output_type": "execute_result"
    }
   ],
   "source": [
    "df.isnull().sum()"
   ]
  },
  {
   "cell_type": "code",
   "execution_count": 13,
   "id": "f0233ceb",
   "metadata": {
    "execution": {
     "iopub.execute_input": "2024-07-11T18:41:19.427310Z",
     "iopub.status.busy": "2024-07-11T18:41:19.427013Z",
     "iopub.status.idle": "2024-07-11T18:41:19.446179Z",
     "shell.execute_reply": "2024-07-11T18:41:19.445434Z"
    },
    "papermill": {
     "duration": 0.040609,
     "end_time": "2024-07-11T18:41:19.448213",
     "exception": false,
     "start_time": "2024-07-11T18:41:19.407604",
     "status": "completed"
    },
    "tags": []
   },
   "outputs": [],
   "source": [
    "df.dropna(inplace=True)"
   ]
  },
  {
   "cell_type": "code",
   "execution_count": 14,
   "id": "08e4a7e4",
   "metadata": {
    "execution": {
     "iopub.execute_input": "2024-07-11T18:41:19.488578Z",
     "iopub.status.busy": "2024-07-11T18:41:19.487993Z",
     "iopub.status.idle": "2024-07-11T18:41:19.501694Z",
     "shell.execute_reply": "2024-07-11T18:41:19.500841Z"
    },
    "papermill": {
     "duration": 0.035738,
     "end_time": "2024-07-11T18:41:19.504252",
     "exception": false,
     "start_time": "2024-07-11T18:41:19.468514",
     "status": "completed"
    },
    "tags": []
   },
   "outputs": [
    {
     "data": {
      "text/html": [
       "<div>\n",
       "<style scoped>\n",
       "    .dataframe tbody tr th:only-of-type {\n",
       "        vertical-align: middle;\n",
       "    }\n",
       "\n",
       "    .dataframe tbody tr th {\n",
       "        vertical-align: top;\n",
       "    }\n",
       "\n",
       "    .dataframe thead th {\n",
       "        text-align: right;\n",
       "    }\n",
       "</style>\n",
       "<table border=\"1\" class=\"dataframe\">\n",
       "  <thead>\n",
       "    <tr style=\"text-align: right;\">\n",
       "      <th></th>\n",
       "      <th>Sponsor</th>\n",
       "      <th>Phase</th>\n",
       "      <th>Enrollment</th>\n",
       "      <th>Status</th>\n",
       "      <th>Condition</th>\n",
       "    </tr>\n",
       "  </thead>\n",
       "  <tbody>\n",
       "    <tr>\n",
       "      <th>0</th>\n",
       "      <td>Sanofi</td>\n",
       "      <td>Phase 2</td>\n",
       "      <td>75</td>\n",
       "      <td>0</td>\n",
       "      <td>Leukemia</td>\n",
       "    </tr>\n",
       "    <tr>\n",
       "      <th>1</th>\n",
       "      <td>Sanofi</td>\n",
       "      <td>Phase 2</td>\n",
       "      <td>0</td>\n",
       "      <td>0</td>\n",
       "      <td>Endometrial Neoplasms</td>\n",
       "    </tr>\n",
       "    <tr>\n",
       "      <th>3</th>\n",
       "      <td>Sanofi</td>\n",
       "      <td>Phase 2</td>\n",
       "      <td>0</td>\n",
       "      <td>0</td>\n",
       "      <td>Ovarian Neoplasms</td>\n",
       "    </tr>\n",
       "    <tr>\n",
       "      <th>6</th>\n",
       "      <td>Sanofi</td>\n",
       "      <td>Phase 3</td>\n",
       "      <td>0</td>\n",
       "      <td>0</td>\n",
       "      <td>Colorectal Neoplasms</td>\n",
       "    </tr>\n",
       "    <tr>\n",
       "      <th>7</th>\n",
       "      <td>Sanofi</td>\n",
       "      <td>Phase 3</td>\n",
       "      <td>0</td>\n",
       "      <td>0</td>\n",
       "      <td>Carcinoma, Non-Small-Cell Lung</td>\n",
       "    </tr>\n",
       "  </tbody>\n",
       "</table>\n",
       "</div>"
      ],
      "text/plain": [
       "  Sponsor    Phase  Enrollment  Status                       Condition\n",
       "0  Sanofi  Phase 2          75       0                        Leukemia\n",
       "1  Sanofi  Phase 2           0       0           Endometrial Neoplasms\n",
       "3  Sanofi  Phase 2           0       0               Ovarian Neoplasms\n",
       "6  Sanofi  Phase 3           0       0            Colorectal Neoplasms\n",
       "7  Sanofi  Phase 3           0       0  Carcinoma, Non-Small-Cell Lung"
      ]
     },
     "execution_count": 14,
     "metadata": {},
     "output_type": "execute_result"
    }
   ],
   "source": [
    "columns_to_keep = ['Phase', 'Sponsor', 'Status', 'Condition', 'Enrollment']\n",
    "columns_to_drop = [col for col in df.columns if col not in columns_to_keep]\n",
    "\n",
    "df.drop(columns=columns_to_drop, inplace=True) \n",
    "df.head()"
   ]
  },
  {
   "cell_type": "code",
   "execution_count": 15,
   "id": "461c423f",
   "metadata": {
    "execution": {
     "iopub.execute_input": "2024-07-11T18:41:19.544718Z",
     "iopub.status.busy": "2024-07-11T18:41:19.544369Z",
     "iopub.status.idle": "2024-07-11T18:41:19.556484Z",
     "shell.execute_reply": "2024-07-11T18:41:19.555636Z"
    },
    "papermill": {
     "duration": 0.033833,
     "end_time": "2024-07-11T18:41:19.558362",
     "exception": false,
     "start_time": "2024-07-11T18:41:19.524529",
     "status": "completed"
    },
    "tags": []
   },
   "outputs": [
    {
     "data": {
      "text/html": [
       "<div>\n",
       "<style scoped>\n",
       "    .dataframe tbody tr th:only-of-type {\n",
       "        vertical-align: middle;\n",
       "    }\n",
       "\n",
       "    .dataframe tbody tr th {\n",
       "        vertical-align: top;\n",
       "    }\n",
       "\n",
       "    .dataframe thead th {\n",
       "        text-align: right;\n",
       "    }\n",
       "</style>\n",
       "<table border=\"1\" class=\"dataframe\">\n",
       "  <thead>\n",
       "    <tr style=\"text-align: right;\">\n",
       "      <th></th>\n",
       "      <th>Sponsor</th>\n",
       "      <th>Phase</th>\n",
       "      <th>Condition</th>\n",
       "      <th>Enrollment</th>\n",
       "      <th>Status</th>\n",
       "    </tr>\n",
       "  </thead>\n",
       "  <tbody>\n",
       "    <tr>\n",
       "      <th>0</th>\n",
       "      <td>Sanofi</td>\n",
       "      <td>Phase 2</td>\n",
       "      <td>Leukemia</td>\n",
       "      <td>75</td>\n",
       "      <td>0</td>\n",
       "    </tr>\n",
       "    <tr>\n",
       "      <th>1</th>\n",
       "      <td>Sanofi</td>\n",
       "      <td>Phase 2</td>\n",
       "      <td>Endometrial Neoplasms</td>\n",
       "      <td>0</td>\n",
       "      <td>0</td>\n",
       "    </tr>\n",
       "    <tr>\n",
       "      <th>3</th>\n",
       "      <td>Sanofi</td>\n",
       "      <td>Phase 2</td>\n",
       "      <td>Ovarian Neoplasms</td>\n",
       "      <td>0</td>\n",
       "      <td>0</td>\n",
       "    </tr>\n",
       "    <tr>\n",
       "      <th>6</th>\n",
       "      <td>Sanofi</td>\n",
       "      <td>Phase 3</td>\n",
       "      <td>Colorectal Neoplasms</td>\n",
       "      <td>0</td>\n",
       "      <td>0</td>\n",
       "    </tr>\n",
       "    <tr>\n",
       "      <th>7</th>\n",
       "      <td>Sanofi</td>\n",
       "      <td>Phase 3</td>\n",
       "      <td>Carcinoma, Non-Small-Cell Lung</td>\n",
       "      <td>0</td>\n",
       "      <td>0</td>\n",
       "    </tr>\n",
       "  </tbody>\n",
       "</table>\n",
       "</div>"
      ],
      "text/plain": [
       "  Sponsor    Phase                       Condition  Enrollment  Status\n",
       "0  Sanofi  Phase 2                        Leukemia          75       0\n",
       "1  Sanofi  Phase 2           Endometrial Neoplasms           0       0\n",
       "3  Sanofi  Phase 2               Ovarian Neoplasms           0       0\n",
       "6  Sanofi  Phase 3            Colorectal Neoplasms           0       0\n",
       "7  Sanofi  Phase 3  Carcinoma, Non-Small-Cell Lung           0       0"
      ]
     },
     "execution_count": 15,
     "metadata": {},
     "output_type": "execute_result"
    }
   ],
   "source": [
    "order = ['Sponsor', 'Phase', 'Condition', 'Enrollment', 'Status']\n",
    "\n",
    "df = df[order]\n",
    "df.head()"
   ]
  },
  {
   "cell_type": "code",
   "execution_count": 16,
   "id": "18ceab1d",
   "metadata": {
    "execution": {
     "iopub.execute_input": "2024-07-11T18:41:19.597370Z",
     "iopub.status.busy": "2024-07-11T18:41:19.597062Z",
     "iopub.status.idle": "2024-07-11T18:41:19.604571Z",
     "shell.execute_reply": "2024-07-11T18:41:19.603659Z"
    },
    "papermill": {
     "duration": 0.029296,
     "end_time": "2024-07-11T18:41:19.606525",
     "exception": false,
     "start_time": "2024-07-11T18:41:19.577229",
     "status": "completed"
    },
    "tags": []
   },
   "outputs": [
    {
     "name": "stdout",
     "output_type": "stream",
     "text": [
      "Negative matches: 11802\n",
      "Positive matches: 1549\n"
     ]
    }
   ],
   "source": [
    "num_neg_match = len(df[df['Status'] == 0])\n",
    "num_pos_match = len(df[df['Status'] == 1])\n",
    "\n",
    "print(f\"Negative matches: {num_neg_match}\\nPositive matches: {num_pos_match}\")"
   ]
  },
  {
   "cell_type": "code",
   "execution_count": 17,
   "id": "b1b34222",
   "metadata": {
    "execution": {
     "iopub.execute_input": "2024-07-11T18:41:19.647786Z",
     "iopub.status.busy": "2024-07-11T18:41:19.647111Z",
     "iopub.status.idle": "2024-07-11T18:41:19.665010Z",
     "shell.execute_reply": "2024-07-11T18:41:19.664038Z"
    },
    "papermill": {
     "duration": 0.040809,
     "end_time": "2024-07-11T18:41:19.667144",
     "exception": false,
     "start_time": "2024-07-11T18:41:19.626335",
     "status": "completed"
    },
    "tags": []
   },
   "outputs": [],
   "source": [
    "# Encode categorical variables\n",
    "label_encoder = LabelEncoder()\n",
    "df['Phase'] = label_encoder.fit_transform(df['Phase'])\n",
    "df['Condition'] = label_encoder.fit_transform(df['Condition'])\n",
    "df['Sponsor'] = label_encoder.fit_transform(df['Sponsor'])"
   ]
  },
  {
   "cell_type": "code",
   "execution_count": 18,
   "id": "ae284cc6",
   "metadata": {
    "execution": {
     "iopub.execute_input": "2024-07-11T18:41:19.707463Z",
     "iopub.status.busy": "2024-07-11T18:41:19.707141Z",
     "iopub.status.idle": "2024-07-11T18:41:19.987362Z",
     "shell.execute_reply": "2024-07-11T18:41:19.986328Z"
    },
    "papermill": {
     "duration": 0.303182,
     "end_time": "2024-07-11T18:41:19.990203",
     "exception": false,
     "start_time": "2024-07-11T18:41:19.687021",
     "status": "completed"
    },
    "tags": []
   },
   "outputs": [],
   "source": [
    "import seaborn as sns"
   ]
  },
  {
   "cell_type": "code",
   "execution_count": 19,
   "id": "8ca9db2a",
   "metadata": {
    "execution": {
     "iopub.execute_input": "2024-07-11T18:41:20.044251Z",
     "iopub.status.busy": "2024-07-11T18:41:20.043053Z",
     "iopub.status.idle": "2024-07-11T18:41:20.301342Z",
     "shell.execute_reply": "2024-07-11T18:41:20.300259Z"
    },
    "papermill": {
     "duration": 0.286835,
     "end_time": "2024-07-11T18:41:20.303790",
     "exception": false,
     "start_time": "2024-07-11T18:41:20.016955",
     "status": "completed"
    },
    "tags": []
   },
   "outputs": [
    {
     "data": {
      "text/plain": [
       "<Axes: xlabel='Status', ylabel='Enrollment'>"
      ]
     },
     "execution_count": 19,
     "metadata": {},
     "output_type": "execute_result"
    },
    {
     "data": {
      "image/png": "[encoded data removed]",
      "text/plain": [
       "<Figure size 640x480 with 1 Axes>"
      ]
     },
     "metadata": {},
     "output_type": "display_data"
    }
   ],
   "source": [
    "sns.boxplot(x=\"Status\", y=\"Enrollment\", data=df)"
   ]
  },
  {
   "cell_type": "code",
   "execution_count": 20,
   "id": "6ee0e56d",
   "metadata": {
    "execution": {
     "iopub.execute_input": "2024-07-11T18:41:20.347447Z",
     "iopub.status.busy": "2024-07-11T18:41:20.346765Z",
     "iopub.status.idle": "2024-07-11T18:41:20.356849Z",
     "shell.execute_reply": "2024-07-11T18:41:20.355940Z"
    },
    "papermill": {
     "duration": 0.034041,
     "end_time": "2024-07-11T18:41:20.358863",
     "exception": false,
     "start_time": "2024-07-11T18:41:20.324822",
     "status": "completed"
    },
    "tags": []
   },
   "outputs": [],
   "source": [
    "# calculate IQR for column epoch\n",
    "Q1 = df['Enrollment'].quantile(0.25)\n",
    "Q3 = df['Enrollment'].quantile(0.75)\n",
    "IQR = Q3 - Q1\n",
    "\n",
    "# identify outliers\n",
    "threshold = 1.5\n",
    "outliers = df[(df['Enrollment'] < Q1 - threshold * IQR) | (df['Enrollment'] > Q3 + threshold * IQR)]\n",
    "\n",
    "df = df.drop(outliers.index)"
   ]
  },
  {
   "cell_type": "code",
   "execution_count": 21,
   "id": "2e7c773a",
   "metadata": {
    "execution": {
     "iopub.execute_input": "2024-07-11T18:41:20.438051Z",
     "iopub.status.busy": "2024-07-11T18:41:20.437704Z",
     "iopub.status.idle": "2024-07-11T18:41:20.443684Z",
     "shell.execute_reply": "2024-07-11T18:41:20.442924Z"
    },
    "papermill": {
     "duration": 0.028545,
     "end_time": "2024-07-11T18:41:20.445631",
     "exception": false,
     "start_time": "2024-07-11T18:41:20.417086",
     "status": "completed"
    },
    "tags": []
   },
   "outputs": [],
   "source": [
    "# Feature Selection\n",
    "features = ['Phase', 'Sponsor', 'Condition', 'Enrollment']\n",
    "X = df[features]\n",
    "y = df['Status']"
   ]
  },
  {
   "cell_type": "code",
   "execution_count": 22,
   "id": "7053e5c6",
   "metadata": {
    "execution": {
     "iopub.execute_input": "2024-07-11T18:41:20.485363Z",
     "iopub.status.busy": "2024-07-11T18:41:20.485074Z",
     "iopub.status.idle": "2024-07-11T18:41:20.493227Z",
     "shell.execute_reply": "2024-07-11T18:41:20.492548Z"
    },
    "papermill": {
     "duration": 0.030219,
     "end_time": "2024-07-11T18:41:20.495149",
     "exception": false,
     "start_time": "2024-07-11T18:41:20.464930",
     "status": "completed"
    },
    "tags": []
   },
   "outputs": [],
   "source": [
    "# Train-Test Split\n",
    "X_train, X_test, y_train, y_test = train_test_split(X, y, test_size=0.3, random_state=42)"
   ]
  },
  {
   "cell_type": "code",
   "execution_count": 23,
   "id": "c5363abd",
   "metadata": {
    "execution": {
     "iopub.execute_input": "2024-07-11T18:41:20.536885Z",
     "iopub.status.busy": "2024-07-11T18:41:20.536509Z",
     "iopub.status.idle": "2024-07-11T18:41:20.540663Z",
     "shell.execute_reply": "2024-07-11T18:41:20.539764Z"
    },
    "papermill": {
     "duration": 0.026694,
     "end_time": "2024-07-11T18:41:20.542597",
     "exception": false,
     "start_time": "2024-07-11T18:41:20.515903",
     "status": "completed"
    },
    "tags": []
   },
   "outputs": [],
   "source": [
    "X_test2 = X_test"
   ]
  },
  {
   "cell_type": "code",
   "execution_count": 24,
   "id": "7407d7a3",
   "metadata": {
    "execution": {
     "iopub.execute_input": "2024-07-11T18:41:20.583545Z",
     "iopub.status.busy": "2024-07-11T18:41:20.583175Z",
     "iopub.status.idle": "2024-07-11T18:41:20.593072Z",
     "shell.execute_reply": "2024-07-11T18:41:20.592086Z"
    },
    "papermill": {
     "duration": 0.032657,
     "end_time": "2024-07-11T18:41:20.595194",
     "exception": false,
     "start_time": "2024-07-11T18:41:20.562537",
     "status": "completed"
    },
    "tags": []
   },
   "outputs": [
    {
     "data": {
      "text/html": [
       "<div>\n",
       "<style scoped>\n",
       "    .dataframe tbody tr th:only-of-type {\n",
       "        vertical-align: middle;\n",
       "    }\n",
       "\n",
       "    .dataframe tbody tr th {\n",
       "        vertical-align: top;\n",
       "    }\n",
       "\n",
       "    .dataframe thead th {\n",
       "        text-align: right;\n",
       "    }\n",
       "</style>\n",
       "<table border=\"1\" class=\"dataframe\">\n",
       "  <thead>\n",
       "    <tr style=\"text-align: right;\">\n",
       "      <th></th>\n",
       "      <th>Phase</th>\n",
       "      <th>Sponsor</th>\n",
       "      <th>Condition</th>\n",
       "      <th>Enrollment</th>\n",
       "    </tr>\n",
       "  </thead>\n",
       "  <tbody>\n",
       "    <tr>\n",
       "      <th>13385</th>\n",
       "      <td>3</td>\n",
       "      <td>8</td>\n",
       "      <td>119</td>\n",
       "      <td>305</td>\n",
       "    </tr>\n",
       "    <tr>\n",
       "      <th>253</th>\n",
       "      <td>6</td>\n",
       "      <td>9</td>\n",
       "      <td>657</td>\n",
       "      <td>30</td>\n",
       "    </tr>\n",
       "    <tr>\n",
       "      <th>12281</th>\n",
       "      <td>6</td>\n",
       "      <td>3</td>\n",
       "      <td>271</td>\n",
       "      <td>20</td>\n",
       "    </tr>\n",
       "    <tr>\n",
       "      <th>11396</th>\n",
       "      <td>3</td>\n",
       "      <td>4</td>\n",
       "      <td>515</td>\n",
       "      <td>50</td>\n",
       "    </tr>\n",
       "    <tr>\n",
       "      <th>3794</th>\n",
       "      <td>6</td>\n",
       "      <td>6</td>\n",
       "      <td>485</td>\n",
       "      <td>0</td>\n",
       "    </tr>\n",
       "  </tbody>\n",
       "</table>\n",
       "</div>"
      ],
      "text/plain": [
       "       Phase  Sponsor  Condition  Enrollment\n",
       "13385      3        8        119         305\n",
       "253        6        9        657          30\n",
       "12281      6        3        271          20\n",
       "11396      3        4        515          50\n",
       "3794       6        6        485           0"
      ]
     },
     "execution_count": 24,
     "metadata": {},
     "output_type": "execute_result"
    }
   ],
   "source": [
    "X_test2.head()"
   ]
  },
  {
   "cell_type": "code",
   "execution_count": 25,
   "id": "4f77e888",
   "metadata": {
    "execution": {
     "iopub.execute_input": "2024-07-11T18:41:20.636893Z",
     "iopub.status.busy": "2024-07-11T18:41:20.636258Z",
     "iopub.status.idle": "2024-07-11T18:41:20.642624Z",
     "shell.execute_reply": "2024-07-11T18:41:20.641596Z"
    },
    "papermill": {
     "duration": 0.02903,
     "end_time": "2024-07-11T18:41:20.644645",
     "exception": false,
     "start_time": "2024-07-11T18:41:20.615615",
     "status": "completed"
    },
    "tags": []
   },
   "outputs": [
    {
     "data": {
      "text/plain": [
       "(8523, 8523, 3654, 3654)"
      ]
     },
     "execution_count": 25,
     "metadata": {},
     "output_type": "execute_result"
    }
   ],
   "source": [
    "len(X_train), len(y_train), len(X_test), len(y_test)"
   ]
  },
  {
   "cell_type": "code",
   "execution_count": 26,
   "id": "b0ca48bf",
   "metadata": {
    "execution": {
     "iopub.execute_input": "2024-07-11T18:41:20.685558Z",
     "iopub.status.busy": "2024-07-11T18:41:20.685167Z",
     "iopub.status.idle": "2024-07-11T18:41:20.695395Z",
     "shell.execute_reply": "2024-07-11T18:41:20.694671Z"
    },
    "papermill": {
     "duration": 0.032968,
     "end_time": "2024-07-11T18:41:20.697425",
     "exception": false,
     "start_time": "2024-07-11T18:41:20.664457",
     "status": "completed"
    },
    "tags": []
   },
   "outputs": [],
   "source": [
    "# Standardize the data\n",
    "scaler = StandardScaler()\n",
    "X_train = scaler.fit_transform(X_train)\n",
    "X_test = scaler.transform(X_test)"
   ]
  },
  {
   "cell_type": "markdown",
   "id": "d401cdb8",
   "metadata": {
    "papermill": {
     "duration": 0.019563,
     "end_time": "2024-07-11T18:41:20.736911",
     "exception": false,
     "start_time": "2024-07-11T18:41:20.717348",
     "status": "completed"
    },
    "tags": []
   },
   "source": [
    "# Logistic Regression"
   ]
  },
  {
   "cell_type": "code",
   "execution_count": 27,
   "id": "6e8cc524",
   "metadata": {
    "execution": {
     "iopub.execute_input": "2024-07-11T18:41:20.778947Z",
     "iopub.status.busy": "2024-07-11T18:41:20.778255Z",
     "iopub.status.idle": "2024-07-11T18:41:20.782432Z",
     "shell.execute_reply": "2024-07-11T18:41:20.781629Z"
    },
    "papermill": {
     "duration": 0.027762,
     "end_time": "2024-07-11T18:41:20.784524",
     "exception": false,
     "start_time": "2024-07-11T18:41:20.756762",
     "status": "completed"
    },
    "tags": []
   },
   "outputs": [],
   "source": [
    "model = LogisticRegression()\n",
    "# model.fit(X_train, y_train)"
   ]
  },
  {
   "cell_type": "code",
   "execution_count": 28,
   "id": "9e4d5f5c",
   "metadata": {
    "execution": {
     "iopub.execute_input": "2024-07-11T18:41:20.825732Z",
     "iopub.status.busy": "2024-07-11T18:41:20.825370Z",
     "iopub.status.idle": "2024-07-11T18:41:21.321273Z",
     "shell.execute_reply": "2024-07-11T18:41:21.320350Z"
    },
    "papermill": {
     "duration": 0.520274,
     "end_time": "2024-07-11T18:41:21.324611",
     "exception": false,
     "start_time": "2024-07-11T18:41:20.804337",
     "status": "completed"
    },
    "tags": []
   },
   "outputs": [
    {
     "name": "stdout",
     "output_type": "stream",
     "text": [
      "Cross-Validation Scores: [0.87804878 0.88836773 0.88086304 0.89483568 0.89765258 0.89483568\n",
      " 0.87511737 0.89483568 0.88086304 0.86116323 0.89493433 0.87887324\n",
      " 0.90140845 0.91173709 0.8741784  0.90140845 0.88273921 0.88461538\n",
      " 0.9043152  0.87981221 0.88262911 0.87511737 0.90140845 0.89389671\n",
      " 0.89118199 0.88086304 0.89118199 0.88826291 0.90422535 0.87793427\n",
      " 0.87887324 0.89201878]\n"
     ]
    }
   ],
   "source": [
    "rkf1 = RepeatedKFold(n_splits=8, n_repeats=4, random_state=42)\n",
    "\n",
    "# Perform cross-validation\n",
    "cv_scores1 = cross_val_score(model, X_train, y_train, cv=rkf1)\n",
    "\n",
    "print(\"Cross-Validation Scores:\", cv_scores1)"
   ]
  },
  {
   "cell_type": "code",
   "execution_count": 29,
   "id": "a4f38c9a",
   "metadata": {
    "execution": {
     "iopub.execute_input": "2024-07-11T18:41:21.414679Z",
     "iopub.status.busy": "2024-07-11T18:41:21.414143Z",
     "iopub.status.idle": "2024-07-11T18:41:21.420244Z",
     "shell.execute_reply": "2024-07-11T18:41:21.419376Z"
    },
    "papermill": {
     "duration": 0.053916,
     "end_time": "2024-07-11T18:41:21.423488",
     "exception": false,
     "start_time": "2024-07-11T18:41:21.369572",
     "status": "completed"
    },
    "tags": []
   },
   "outputs": [
    {
     "name": "stdout",
     "output_type": "stream",
     "text": [
      "Mean Accuracy for dataset1: 0.888068687295757\n"
     ]
    }
   ],
   "source": [
    "mean_accuracy1 = cv_scores1.mean()\n",
    "print(\"Mean Accuracy for dataset1:\", mean_accuracy1)"
   ]
  },
  {
   "cell_type": "code",
   "execution_count": 30,
   "id": "53459dff",
   "metadata": {
    "execution": {
     "iopub.execute_input": "2024-07-11T18:41:21.477840Z",
     "iopub.status.busy": "2024-07-11T18:41:21.477565Z",
     "iopub.status.idle": "2024-07-11T18:41:21.499395Z",
     "shell.execute_reply": "2024-07-11T18:41:21.498204Z"
    },
    "papermill": {
     "duration": 0.045387,
     "end_time": "2024-07-11T18:41:21.502136",
     "exception": false,
     "start_time": "2024-07-11T18:41:21.456749",
     "status": "completed"
    },
    "tags": []
   },
   "outputs": [
    {
     "data": {
      "text/html": [
       "<style>#sk-container-id-1 {color: black;background-color: white;}#sk-container-id-1 pre{padding: 0;}#sk-container-id-1 div.sk-toggleable {background-color: white;}#sk-container-id-1 label.sk-toggleable__label {cursor: pointer;display: block;width: 100%;margin-bottom: 0;padding: 0.3em;box-sizing: border-box;text-align: center;}#sk-container-id-1 label.sk-toggleable__label-arrow:before {content: \"▸\";float: left;margin-right: 0.25em;color: #696969;}#sk-container-id-1 label.sk-toggleable__label-arrow:hover:before {color: black;}#sk-container-id-1 div.sk-estimator:hover label.sk-toggleable__label-arrow:before {color: black;}#sk-container-id-1 div.sk-toggleable__content {max-height: 0;max-width: 0;overflow: hidden;text-align: left;background-color: #f0f8ff;}#sk-container-id-1 div.sk-toggleable__content pre {margin: 0.2em;color: black;border-radius: 0.25em;background-color: #f0f8ff;}#sk-container-id-1 input.sk-toggleable__control:checked~div.sk-toggleable__content {max-height: 200px;max-width: 100%;overflow: auto;}#sk-container-id-1 input.sk-toggleable__control:checked~label.sk-toggleable__label-arrow:before {content: \"▾\";}#sk-container-id-1 div.sk-estimator input.sk-toggleable__control:checked~label.sk-toggleable__label {background-color: #d4ebff;}#sk-container-id-1 div.sk-label input.sk-toggleable__control:checked~label.sk-toggleable__label {background-color: #d4ebff;}#sk-container-id-1 input.sk-hidden--visually {border: 0;clip: rect(1px 1px 1px 1px);clip: rect(1px, 1px, 1px, 1px);height: 1px;margin: -1px;overflow: hidden;padding: 0;position: absolute;width: 1px;}#sk-container-id-1 div.sk-estimator {font-family: monospace;background-color: #f0f8ff;border: 1px dotted black;border-radius: 0.25em;box-sizing: border-box;margin-bottom: 0.5em;}#sk-container-id-1 div.sk-estimator:hover {background-color: #d4ebff;}#sk-container-id-1 div.sk-parallel-item::after {content: \"\";width: 100%;border-bottom: 1px solid gray;flex-grow: 1;}#sk-container-id-1 div.sk-label:hover label.sk-toggleable__label {background-color: #d4ebff;}#sk-container-id-1 div.sk-serial::before {content: \"\";position: absolute;border-left: 1px solid gray;box-sizing: border-box;top: 0;bottom: 0;left: 50%;z-index: 0;}#sk-container-id-1 div.sk-serial {display: flex;flex-direction: column;align-items: center;background-color: white;padding-right: 0.2em;padding-left: 0.2em;position: relative;}#sk-container-id-1 div.sk-item {position: relative;z-index: 1;}#sk-container-id-1 div.sk-parallel {display: flex;align-items: stretch;justify-content: center;background-color: white;position: relative;}#sk-container-id-1 div.sk-item::before, #sk-container-id-1 div.sk-parallel-item::before {content: \"\";position: absolute;border-left: 1px solid gray;box-sizing: border-box;top: 0;bottom: 0;left: 50%;z-index: -1;}#sk-container-id-1 div.sk-parallel-item {display: flex;flex-direction: column;z-index: 1;position: relative;background-color: white;}#sk-container-id-1 div.sk-parallel-item:first-child::after {align-self: flex-end;width: 50%;}#sk-container-id-1 div.sk-parallel-item:last-child::after {align-self: flex-start;width: 50%;}#sk-container-id-1 div.sk-parallel-item:only-child::after {width: 0;}#sk-container-id-1 div.sk-dashed-wrapped {border: 1px dashed gray;margin: 0 0.4em 0.5em 0.4em;box-sizing: border-box;padding-bottom: 0.4em;background-color: white;}#sk-container-id-1 div.sk-label label {font-family: monospace;font-weight: bold;display: inline-block;line-height: 1.2em;}#sk-container-id-1 div.sk-label-container {text-align: center;}#sk-container-id-1 div.sk-container {/* jupyter's `normalize.less` sets `[hidden] { display: none; }` but bootstrap.min.css set `[hidden] { display: none !important; }` so we also need the `!important` here to be able to override the default hidden behavior on the sphinx rendered scikit-learn.org. See: https://github.com/scikit-learn/scikit-learn/issues/21755 */display: inline-block !important;position: relative;}#sk-container-id-1 div.sk-text-repr-fallback {display: none;}</style><div id=\"sk-container-id-1\" class=\"sk-top-container\"><div class=\"sk-text-repr-fallback\"><pre>LogisticRegression()</pre><b>In a Jupyter environment, please rerun this cell to show the HTML representation or trust the notebook. <br />On GitHub, the HTML representation is unable to render, please try loading this page with nbviewer.org.</b></div><div class=\"sk-container\" hidden><div class=\"sk-item\"><div class=\"sk-estimator sk-toggleable\"><input class=\"sk-toggleable__control sk-hidden--visually\" id=\"sk-estimator-id-1\" type=\"checkbox\" checked><label for=\"sk-estimator-id-1\" class=\"sk-toggleable__label sk-toggleable__label-arrow\">LogisticRegression</label><div class=\"sk-toggleable__content\"><pre>LogisticRegression()</pre></div></div></div></div></div>"
      ],
      "text/plain": [
       "LogisticRegression()"
      ]
     },
     "execution_count": 30,
     "metadata": {},
     "output_type": "execute_result"
    }
   ],
   "source": [
    "model.fit(X_train, y_train)"
   ]
  },
  {
   "cell_type": "code",
   "execution_count": 31,
   "id": "2daecdb6",
   "metadata": {
    "execution": {
     "iopub.execute_input": "2024-07-11T18:41:21.588912Z",
     "iopub.status.busy": "2024-07-11T18:41:21.588478Z",
     "iopub.status.idle": "2024-07-11T18:41:21.594232Z",
     "shell.execute_reply": "2024-07-11T18:41:21.593106Z"
    },
    "papermill": {
     "duration": 0.052333,
     "end_time": "2024-07-11T18:41:21.597263",
     "exception": false,
     "start_time": "2024-07-11T18:41:21.544930",
     "status": "completed"
    },
    "tags": []
   },
   "outputs": [],
   "source": [
    "# Predictions\n",
    "y_pred = model.predict(X_test)"
   ]
  },
  {
   "cell_type": "code",
   "execution_count": 32,
   "id": "e79d2b22",
   "metadata": {
    "execution": {
     "iopub.execute_input": "2024-07-11T18:41:21.683135Z",
     "iopub.status.busy": "2024-07-11T18:41:21.682635Z",
     "iopub.status.idle": "2024-07-11T18:41:21.708824Z",
     "shell.execute_reply": "2024-07-11T18:41:21.707640Z"
    },
    "papermill": {
     "duration": 0.073067,
     "end_time": "2024-07-11T18:41:21.712149",
     "exception": false,
     "start_time": "2024-07-11T18:41:21.639082",
     "status": "completed"
    },
    "tags": []
   },
   "outputs": [],
   "source": [
    "# Assuming y_test is the true labels and y_pred are the predicted labels from your model\n",
    "f1 = f1_score(y_test, y_pred, average='weighted')\n",
    "precision = precision_score(y_test, y_pred, average='weighted', zero_division=0)\n",
    "recall = recall_score(y_test, y_pred, average='weighted')"
   ]
  },
  {
   "cell_type": "code",
   "execution_count": 33,
   "id": "344a8f4f",
   "metadata": {
    "execution": {
     "iopub.execute_input": "2024-07-11T18:41:21.760098Z",
     "iopub.status.busy": "2024-07-11T18:41:21.759849Z",
     "iopub.status.idle": "2024-07-11T18:41:21.764223Z",
     "shell.execute_reply": "2024-07-11T18:41:21.763415Z"
    },
    "papermill": {
     "duration": 0.027446,
     "end_time": "2024-07-11T18:41:21.766494",
     "exception": false,
     "start_time": "2024-07-11T18:41:21.739048",
     "status": "completed"
    },
    "tags": []
   },
   "outputs": [
    {
     "name": "stdout",
     "output_type": "stream",
     "text": [
      "F1 Score: 0.8306972617392548\n",
      "Precision: 0.7828423702241719\n",
      "Recall (Sensitivity): 0.884783798576902\n"
     ]
    }
   ],
   "source": [
    "print(f\"F1 Score: {f1}\")\n",
    "print(f\"Precision: {precision}\")\n",
    "print(f\"Recall (Sensitivity): {recall}\")"
   ]
  },
  {
   "cell_type": "markdown",
   "id": "dc88eae0",
   "metadata": {
    "papermill": {
     "duration": 0.019675,
     "end_time": "2024-07-11T18:41:21.806152",
     "exception": false,
     "start_time": "2024-07-11T18:41:21.786477",
     "status": "completed"
    },
    "tags": []
   },
   "source": [
    "# Decision Tree "
   ]
  },
  {
   "cell_type": "code",
   "execution_count": 34,
   "id": "f6598c4c",
   "metadata": {
    "execution": {
     "iopub.execute_input": "2024-07-11T18:41:21.847321Z",
     "iopub.status.busy": "2024-07-11T18:41:21.847070Z",
     "iopub.status.idle": "2024-07-11T18:41:21.850778Z",
     "shell.execute_reply": "2024-07-11T18:41:21.849961Z"
    },
    "papermill": {
     "duration": 0.026403,
     "end_time": "2024-07-11T18:41:21.852623",
     "exception": false,
     "start_time": "2024-07-11T18:41:21.826220",
     "status": "completed"
    },
    "tags": []
   },
   "outputs": [],
   "source": [
    "dtree_model = DecisionTreeClassifier()"
   ]
  },
  {
   "cell_type": "code",
   "execution_count": 35,
   "id": "ac90a0cd",
   "metadata": {
    "execution": {
     "iopub.execute_input": "2024-07-11T18:41:21.895165Z",
     "iopub.status.busy": "2024-07-11T18:41:21.894923Z",
     "iopub.status.idle": "2024-07-11T18:41:21.898645Z",
     "shell.execute_reply": "2024-07-11T18:41:21.897823Z"
    },
    "papermill": {
     "duration": 0.026562,
     "end_time": "2024-07-11T18:41:21.900586",
     "exception": false,
     "start_time": "2024-07-11T18:41:21.874024",
     "status": "completed"
    },
    "tags": []
   },
   "outputs": [],
   "source": [
    "# rkf1 = RepeatedKFold(n_splits=10, n_repeats=4, random_state=42)\n",
    "\n",
    "# # Perform cross-validation\n",
    "# cv_scores1 = cross_val_score(dtree_model, X_train, y_train, cv=rkf1)\n",
    "\n",
    "# print(\"Cross-Validation Scores:\", cv_scores1)"
   ]
  },
  {
   "cell_type": "code",
   "execution_count": 36,
   "id": "62686a25",
   "metadata": {
    "execution": {
     "iopub.execute_input": "2024-07-11T18:41:21.941910Z",
     "iopub.status.busy": "2024-07-11T18:41:21.941668Z",
     "iopub.status.idle": "2024-07-11T18:41:21.945263Z",
     "shell.execute_reply": "2024-07-11T18:41:21.944440Z"
    },
    "papermill": {
     "duration": 0.026499,
     "end_time": "2024-07-11T18:41:21.947051",
     "exception": false,
     "start_time": "2024-07-11T18:41:21.920552",
     "status": "completed"
    },
    "tags": []
   },
   "outputs": [],
   "source": [
    "# mean_accuracy1 = cv_scores1.mean()\n",
    "# print(\"Mean Accuracy for dataset1:\", mean_accuracy1)"
   ]
  },
  {
   "cell_type": "code",
   "execution_count": 37,
   "id": "76f0226a",
   "metadata": {
    "execution": {
     "iopub.execute_input": "2024-07-11T18:41:21.988488Z",
     "iopub.status.busy": "2024-07-11T18:41:21.988174Z",
     "iopub.status.idle": "2024-07-11T18:41:22.212477Z",
     "shell.execute_reply": "2024-07-11T18:41:22.211335Z"
    },
    "papermill": {
     "duration": 0.2473,
     "end_time": "2024-07-11T18:41:22.214712",
     "exception": false,
     "start_time": "2024-07-11T18:41:21.967412",
     "status": "completed"
    },
    "tags": []
   },
   "outputs": [
    {
     "name": "stdout",
     "output_type": "stream",
     "text": [
      "Accuracy: 0.8812260536398467\n"
     ]
    }
   ],
   "source": [
    "# Number of base models (iterations)\n",
    "n_estimators = 12\n",
    " \n",
    "# Create the Bagging classifier\n",
    "bagging_classifier = BaggingClassifier(estimator=dtree_model, n_estimators=n_estimators)\n",
    " \n",
    "# Train the Bagging classifier\n",
    "bagging_classifier.fit(X_train, y_train)\n",
    " \n",
    "# Make predictions on the test set\n",
    "y_pred = bagging_classifier.predict(X_test)\n",
    " \n",
    "# Calculate accuracy\n",
    "accuracy = accuracy_score(y_test, y_pred)\n",
    "print(\"Accuracy:\", accuracy)"
   ]
  },
  {
   "cell_type": "code",
   "execution_count": 38,
   "id": "50af561e",
   "metadata": {
    "execution": {
     "iopub.execute_input": "2024-07-11T18:41:22.257473Z",
     "iopub.status.busy": "2024-07-11T18:41:22.257117Z",
     "iopub.status.idle": "2024-07-11T18:41:22.285838Z",
     "shell.execute_reply": "2024-07-11T18:41:22.284908Z"
    },
    "papermill": {
     "duration": 0.052309,
     "end_time": "2024-07-11T18:41:22.287924",
     "exception": false,
     "start_time": "2024-07-11T18:41:22.235615",
     "status": "completed"
    },
    "tags": []
   },
   "outputs": [],
   "source": [
    "dtree_model.fit(X_train, y_train) \n",
    "dtree_predictions = dtree_model.predict(X_test) "
   ]
  },
  {
   "cell_type": "code",
   "execution_count": 39,
   "id": "9f3371f4",
   "metadata": {
    "execution": {
     "iopub.execute_input": "2024-07-11T18:41:22.330074Z",
     "iopub.status.busy": "2024-07-11T18:41:22.329542Z",
     "iopub.status.idle": "2024-07-11T18:41:22.344930Z",
     "shell.execute_reply": "2024-07-11T18:41:22.344262Z"
    },
    "papermill": {
     "duration": 0.038341,
     "end_time": "2024-07-11T18:41:22.346712",
     "exception": false,
     "start_time": "2024-07-11T18:41:22.308371",
     "status": "completed"
    },
    "tags": []
   },
   "outputs": [],
   "source": [
    "# Assuming y_test is the true labels and y_pred are the predicted labels from your model\n",
    "f1 = f1_score(y_test, dtree_predictions, average='weighted')\n",
    "precision = precision_score(y_test, dtree_predictions, average='weighted', zero_division=0)\n",
    "recall = recall_score(y_test, dtree_predictions, average='weighted')"
   ]
  },
  {
   "cell_type": "code",
   "execution_count": 40,
   "id": "e6e5b798",
   "metadata": {
    "execution": {
     "iopub.execute_input": "2024-07-11T18:41:22.388180Z",
     "iopub.status.busy": "2024-07-11T18:41:22.387908Z",
     "iopub.status.idle": "2024-07-11T18:41:22.392685Z",
     "shell.execute_reply": "2024-07-11T18:41:22.391840Z"
    },
    "papermill": {
     "duration": 0.027916,
     "end_time": "2024-07-11T18:41:22.394734",
     "exception": false,
     "start_time": "2024-07-11T18:41:22.366818",
     "status": "completed"
    },
    "tags": []
   },
   "outputs": [
    {
     "name": "stdout",
     "output_type": "stream",
     "text": [
      "F1 Score: 0.8447634857229518\n",
      "Precision: 0.845818321363786\n",
      "Recall (Sensitivity): 0.8437328954570333\n"
     ]
    }
   ],
   "source": [
    "print(f\"F1 Score: {f1}\")\n",
    "print(f\"Precision: {precision}\")\n",
    "print(f\"Recall (Sensitivity): {recall}\")"
   ]
  },
  {
   "cell_type": "markdown",
   "id": "82843432",
   "metadata": {
    "papermill": {
     "duration": 0.020363,
     "end_time": "2024-07-11T18:41:22.435262",
     "exception": false,
     "start_time": "2024-07-11T18:41:22.414899",
     "status": "completed"
    },
    "tags": []
   },
   "source": [
    "# Support Vector Machine"
   ]
  },
  {
   "cell_type": "code",
   "execution_count": 41,
   "id": "92241d45",
   "metadata": {
    "execution": {
     "iopub.execute_input": "2024-07-11T18:41:22.478486Z",
     "iopub.status.busy": "2024-07-11T18:41:22.477636Z",
     "iopub.status.idle": "2024-07-11T18:41:22.482063Z",
     "shell.execute_reply": "2024-07-11T18:41:22.481200Z"
    },
    "papermill": {
     "duration": 0.028086,
     "end_time": "2024-07-11T18:41:22.484003",
     "exception": false,
     "start_time": "2024-07-11T18:41:22.455917",
     "status": "completed"
    },
    "tags": []
   },
   "outputs": [],
   "source": [
    "svm_model_linear = SVC(kernel = 'linear', C = 1)"
   ]
  },
  {
   "cell_type": "code",
   "execution_count": 42,
   "id": "5906f8a7",
   "metadata": {
    "execution": {
     "iopub.execute_input": "2024-07-11T18:41:22.526196Z",
     "iopub.status.busy": "2024-07-11T18:41:22.525935Z",
     "iopub.status.idle": "2024-07-11T18:41:33.796239Z",
     "shell.execute_reply": "2024-07-11T18:41:33.795311Z"
    },
    "papermill": {
     "duration": 11.293906,
     "end_time": "2024-07-11T18:41:33.798597",
     "exception": false,
     "start_time": "2024-07-11T18:41:22.504691",
     "status": "completed"
    },
    "tags": []
   },
   "outputs": [
    {
     "name": "stdout",
     "output_type": "stream",
     "text": [
      "Cross-Validation Scores: [0.86518171 0.89917937 0.89097304 0.87206573 0.90023474 0.90258216\n",
      " 0.88849765 0.89319249 0.87676056 0.89201878 0.88042204 0.87338804\n",
      " 0.86987104 0.88732394 0.88380282 0.89788732 0.90962441 0.87206573\n",
      " 0.90258216 0.90375587 0.87807737 0.89214537 0.89214537 0.89319249\n",
      " 0.88380282 0.8685446  0.88849765 0.88262911 0.91666667 0.88497653\n",
      " 0.8862837  0.88393904 0.89800703 0.88380282 0.88732394 0.91079812\n",
      " 0.8814554  0.87676056 0.87910798 0.89319249]\n"
     ]
    }
   ],
   "source": [
    "rkf1 = RepeatedKFold(n_splits=10, n_repeats=4, random_state=42)\n",
    "\n",
    "# Perform cross-validation\n",
    "cv_scores1 = cross_val_score(svm_model_linear, X_train, y_train, cv=rkf1)\n",
    "\n",
    "print(\"Cross-Validation Scores:\", cv_scores1)"
   ]
  },
  {
   "cell_type": "code",
   "execution_count": 43,
   "id": "7fbcc10f",
   "metadata": {
    "execution": {
     "iopub.execute_input": "2024-07-11T18:41:33.841999Z",
     "iopub.status.busy": "2024-07-11T18:41:33.841671Z",
     "iopub.status.idle": "2024-07-11T18:41:33.846661Z",
     "shell.execute_reply": "2024-07-11T18:41:33.845688Z"
    },
    "papermill": {
     "duration": 0.029139,
     "end_time": "2024-07-11T18:41:33.848955",
     "exception": false,
     "start_time": "2024-07-11T18:41:33.819816",
     "status": "completed"
    },
    "tags": []
   },
   "outputs": [
    {
     "name": "stdout",
     "output_type": "stream",
     "text": [
      "Mean Accuracy for dataset1: 0.8880689667508765\n"
     ]
    }
   ],
   "source": [
    "mean_accuracy1 = cv_scores1.mean()\n",
    "print(\"Mean Accuracy for dataset1:\", mean_accuracy1)"
   ]
  },
  {
   "cell_type": "code",
   "execution_count": 44,
   "id": "cdc677fd",
   "metadata": {
    "execution": {
     "iopub.execute_input": "2024-07-11T18:41:33.891881Z",
     "iopub.status.busy": "2024-07-11T18:41:33.891536Z",
     "iopub.status.idle": "2024-07-11T18:41:33.895509Z",
     "shell.execute_reply": "2024-07-11T18:41:33.894634Z"
    },
    "papermill": {
     "duration": 0.027724,
     "end_time": "2024-07-11T18:41:33.897505",
     "exception": false,
     "start_time": "2024-07-11T18:41:33.869781",
     "status": "completed"
    },
    "tags": []
   },
   "outputs": [],
   "source": [
    "# svm_model_linear.fit(X_train, y_train) \n",
    "# svm_predictions = svm_model_linear.predict(X_test)"
   ]
  },
  {
   "cell_type": "code",
   "execution_count": 45,
   "id": "1c046f65",
   "metadata": {
    "execution": {
     "iopub.execute_input": "2024-07-11T18:41:33.942021Z",
     "iopub.status.busy": "2024-07-11T18:41:33.941242Z",
     "iopub.status.idle": "2024-07-11T18:41:33.945286Z",
     "shell.execute_reply": "2024-07-11T18:41:33.944473Z"
    },
    "papermill": {
     "duration": 0.027914,
     "end_time": "2024-07-11T18:41:33.947294",
     "exception": false,
     "start_time": "2024-07-11T18:41:33.919380",
     "status": "completed"
    },
    "tags": []
   },
   "outputs": [],
   "source": [
    "# # Assuming y_test is the true labels and y_pred are the predicted labels from your model\n",
    "# f1 = f1_score(y_test, svm_predictions, average='weighted')\n",
    "# precision = precision_score(y_test, svm_predictions, average='weighted', zero_division=0)\n",
    "# recall = recall_score(y_test, svm_predictions, average='weighted')"
   ]
  },
  {
   "cell_type": "code",
   "execution_count": 46,
   "id": "aa7febfa",
   "metadata": {
    "execution": {
     "iopub.execute_input": "2024-07-11T18:41:33.990768Z",
     "iopub.status.busy": "2024-07-11T18:41:33.990188Z",
     "iopub.status.idle": "2024-07-11T18:41:33.994303Z",
     "shell.execute_reply": "2024-07-11T18:41:33.993459Z"
    },
    "papermill": {
     "duration": 0.028113,
     "end_time": "2024-07-11T18:41:33.996263",
     "exception": false,
     "start_time": "2024-07-11T18:41:33.968150",
     "status": "completed"
    },
    "tags": []
   },
   "outputs": [],
   "source": [
    "# print(f1), print(precision), print(recall)"
   ]
  },
  {
   "cell_type": "markdown",
   "id": "0ab85189",
   "metadata": {
    "papermill": {
     "duration": 0.020235,
     "end_time": "2024-07-11T18:41:34.037257",
     "exception": false,
     "start_time": "2024-07-11T18:41:34.017022",
     "status": "completed"
    },
    "tags": []
   },
   "source": [
    "# K-Nearest Neighbour"
   ]
  },
  {
   "cell_type": "code",
   "execution_count": 47,
   "id": "560af216",
   "metadata": {
    "execution": {
     "iopub.execute_input": "2024-07-11T18:41:34.079988Z",
     "iopub.status.busy": "2024-07-11T18:41:34.079162Z",
     "iopub.status.idle": "2024-07-11T18:41:34.083452Z",
     "shell.execute_reply": "2024-07-11T18:41:34.082596Z"
    },
    "papermill": {
     "duration": 0.027717,
     "end_time": "2024-07-11T18:41:34.085407",
     "exception": false,
     "start_time": "2024-07-11T18:41:34.057690",
     "status": "completed"
    },
    "tags": []
   },
   "outputs": [],
   "source": [
    "# training a KNN classifier \n",
    "knn = KNeighborsClassifier(n_neighbors = 10)"
   ]
  },
  {
   "cell_type": "code",
   "execution_count": 48,
   "id": "d44c6498",
   "metadata": {
    "execution": {
     "iopub.execute_input": "2024-07-11T18:41:34.127922Z",
     "iopub.status.busy": "2024-07-11T18:41:34.127600Z",
     "iopub.status.idle": "2024-07-11T18:41:36.376430Z",
     "shell.execute_reply": "2024-07-11T18:41:36.375458Z"
    },
    "papermill": {
     "duration": 2.272882,
     "end_time": "2024-07-11T18:41:36.378664",
     "exception": false,
     "start_time": "2024-07-11T18:41:34.105782",
     "status": "completed"
    },
    "tags": []
   },
   "outputs": [
    {
     "name": "stdout",
     "output_type": "stream",
     "text": [
      "Cross-Validation Scores: [0.87804878 0.88742964 0.87711069 0.90046948 0.89859155 0.89295775\n",
      " 0.87981221 0.89859155 0.87898687 0.86585366 0.89868668 0.87887324\n",
      " 0.90140845 0.90985915 0.87230047 0.90234742 0.88273921 0.88649156\n",
      " 0.90337711 0.88450704 0.88638498 0.87699531 0.89765258 0.89201878\n",
      " 0.89305816 0.8836773  0.88649156 0.89014085 0.90516432 0.87699531\n",
      " 0.88169014 0.89577465]\n"
     ]
    }
   ],
   "source": [
    "rkf1 = RepeatedKFold(n_splits=8, n_repeats=4, random_state=42)\n",
    "\n",
    "# Perform cross-validation\n",
    "cv_scores1 = cross_val_score(knn, X_train, y_train, cv=rkf1)\n",
    "\n",
    "print(\"Cross-Validation Scores:\", cv_scores1)"
   ]
  },
  {
   "cell_type": "code",
   "execution_count": 49,
   "id": "22b4c8c4",
   "metadata": {
    "execution": {
     "iopub.execute_input": "2024-07-11T18:41:36.422686Z",
     "iopub.status.busy": "2024-07-11T18:41:36.421857Z",
     "iopub.status.idle": "2024-07-11T18:41:36.426969Z",
     "shell.execute_reply": "2024-07-11T18:41:36.426113Z"
    },
    "papermill": {
     "duration": 0.029357,
     "end_time": "2024-07-11T18:41:36.429068",
     "exception": false,
     "start_time": "2024-07-11T18:41:36.399711",
     "status": "completed"
    },
    "tags": []
   },
   "outputs": [
    {
     "name": "stdout",
     "output_type": "stream",
     "text": [
      "Mean Accuracy for dataset1: 0.8888902009618688\n"
     ]
    }
   ],
   "source": [
    "mean_accuracy1 = cv_scores1.mean()\n",
    "print(\"Mean Accuracy for dataset1:\", mean_accuracy1)"
   ]
  },
  {
   "cell_type": "code",
   "execution_count": 50,
   "id": "2547819b",
   "metadata": {
    "execution": {
     "iopub.execute_input": "2024-07-11T18:41:36.475016Z",
     "iopub.status.busy": "2024-07-11T18:41:36.474664Z",
     "iopub.status.idle": "2024-07-11T18:41:36.717983Z",
     "shell.execute_reply": "2024-07-11T18:41:36.716898Z"
    },
    "papermill": {
     "duration": 0.267804,
     "end_time": "2024-07-11T18:41:36.720322",
     "exception": false,
     "start_time": "2024-07-11T18:41:36.452518",
     "status": "completed"
    },
    "tags": []
   },
   "outputs": [],
   "source": [
    "knn.fit(X_train, y_train) \n",
    "preds = knn.predict(X_test)"
   ]
  },
  {
   "cell_type": "code",
   "execution_count": 51,
   "id": "48a30f75",
   "metadata": {
    "execution": {
     "iopub.execute_input": "2024-07-11T18:41:36.764111Z",
     "iopub.status.busy": "2024-07-11T18:41:36.763496Z",
     "iopub.status.idle": "2024-07-11T18:41:36.778857Z",
     "shell.execute_reply": "2024-07-11T18:41:36.778159Z"
    },
    "papermill": {
     "duration": 0.039393,
     "end_time": "2024-07-11T18:41:36.780964",
     "exception": false,
     "start_time": "2024-07-11T18:41:36.741571",
     "status": "completed"
    },
    "tags": []
   },
   "outputs": [],
   "source": [
    "# Assuming y_test is the true labels and y_pred are the predicted labels from your model\n",
    "f1 = f1_score(y_test, preds, average='weighted')\n",
    "precision = precision_score(y_test, preds, average='weighted', zero_division=0)\n",
    "recall = recall_score(y_test, preds, average='weighted')"
   ]
  },
  {
   "cell_type": "code",
   "execution_count": 52,
   "id": "b81653ce",
   "metadata": {
    "execution": {
     "iopub.execute_input": "2024-07-11T18:41:36.825042Z",
     "iopub.status.busy": "2024-07-11T18:41:36.824431Z",
     "iopub.status.idle": "2024-07-11T18:41:36.831499Z",
     "shell.execute_reply": "2024-07-11T18:41:36.830335Z"
    },
    "papermill": {
     "duration": 0.031574,
     "end_time": "2024-07-11T18:41:36.833569",
     "exception": false,
     "start_time": "2024-07-11T18:41:36.801995",
     "status": "completed"
    },
    "tags": []
   },
   "outputs": [
    {
     "name": "stdout",
     "output_type": "stream",
     "text": [
      "0.8370420620159863\n",
      "0.840729236477599\n",
      "0.8845101258894362\n"
     ]
    },
    {
     "data": {
      "text/plain": [
       "(None, None, None)"
      ]
     },
     "execution_count": 52,
     "metadata": {},
     "output_type": "execute_result"
    }
   ],
   "source": [
    "print(f1), print(precision), print(recall)"
   ]
  },
  {
   "cell_type": "markdown",
   "id": "23ab36c0",
   "metadata": {
    "papermill": {
     "duration": 0.02084,
     "end_time": "2024-07-11T18:41:36.875992",
     "exception": false,
     "start_time": "2024-07-11T18:41:36.855152",
     "status": "completed"
    },
    "tags": []
   },
   "source": [
    "# Logistic Regression with GridSearchCV"
   ]
  },
  {
   "cell_type": "markdown",
   "id": "7ca4e007",
   "metadata": {
    "papermill": {
     "duration": 0.020875,
     "end_time": "2024-07-11T18:41:36.917887",
     "exception": false,
     "start_time": "2024-07-11T18:41:36.897012",
     "status": "completed"
    },
    "tags": []
   },
   "source": [
    "**Alt NB**"
   ]
  },
  {
   "cell_type": "code",
   "execution_count": 53,
   "id": "5d6e33e6",
   "metadata": {
    "execution": {
     "iopub.execute_input": "2024-07-11T18:41:36.963789Z",
     "iopub.status.busy": "2024-07-11T18:41:36.963165Z",
     "iopub.status.idle": "2024-07-11T18:41:38.219831Z",
     "shell.execute_reply": "2024-07-11T18:41:38.218571Z"
    },
    "papermill": {
     "duration": 1.282847,
     "end_time": "2024-07-11T18:41:38.223477",
     "exception": false,
     "start_time": "2024-07-11T18:41:36.940630",
     "status": "completed"
    },
    "tags": []
   },
   "outputs": [
    {
     "data": {
      "text/html": [
       "<style>#sk-container-id-2 {color: black;background-color: white;}#sk-container-id-2 pre{padding: 0;}#sk-container-id-2 div.sk-toggleable {background-color: white;}#sk-container-id-2 label.sk-toggleable__label {cursor: pointer;display: block;width: 100%;margin-bottom: 0;padding: 0.3em;box-sizing: border-box;text-align: center;}#sk-container-id-2 label.sk-toggleable__label-arrow:before {content: \"▸\";float: left;margin-right: 0.25em;color: #696969;}#sk-container-id-2 label.sk-toggleable__label-arrow:hover:before {color: black;}#sk-container-id-2 div.sk-estimator:hover label.sk-toggleable__label-arrow:before {color: black;}#sk-container-id-2 div.sk-toggleable__content {max-height: 0;max-width: 0;overflow: hidden;text-align: left;background-color: #f0f8ff;}#sk-container-id-2 div.sk-toggleable__content pre {margin: 0.2em;color: black;border-radius: 0.25em;background-color: #f0f8ff;}#sk-container-id-2 input.sk-toggleable__control:checked~div.sk-toggleable__content {max-height: 200px;max-width: 100%;overflow: auto;}#sk-container-id-2 input.sk-toggleable__control:checked~label.sk-toggleable__label-arrow:before {content: \"▾\";}#sk-container-id-2 div.sk-estimator input.sk-toggleable__control:checked~label.sk-toggleable__label {background-color: #d4ebff;}#sk-container-id-2 div.sk-label input.sk-toggleable__control:checked~label.sk-toggleable__label {background-color: #d4ebff;}#sk-container-id-2 input.sk-hidden--visually {border: 0;clip: rect(1px 1px 1px 1px);clip: rect(1px, 1px, 1px, 1px);height: 1px;margin: -1px;overflow: hidden;padding: 0;position: absolute;width: 1px;}#sk-container-id-2 div.sk-estimator {font-family: monospace;background-color: #f0f8ff;border: 1px dotted black;border-radius: 0.25em;box-sizing: border-box;margin-bottom: 0.5em;}#sk-container-id-2 div.sk-estimator:hover {background-color: #d4ebff;}#sk-container-id-2 div.sk-parallel-item::after {content: \"\";width: 100%;border-bottom: 1px solid gray;flex-grow: 1;}#sk-container-id-2 div.sk-label:hover label.sk-toggleable__label {background-color: #d4ebff;}#sk-container-id-2 div.sk-serial::before {content: \"\";position: absolute;border-left: 1px solid gray;box-sizing: border-box;top: 0;bottom: 0;left: 50%;z-index: 0;}#sk-container-id-2 div.sk-serial {display: flex;flex-direction: column;align-items: center;background-color: white;padding-right: 0.2em;padding-left: 0.2em;position: relative;}#sk-container-id-2 div.sk-item {position: relative;z-index: 1;}#sk-container-id-2 div.sk-parallel {display: flex;align-items: stretch;justify-content: center;background-color: white;position: relative;}#sk-container-id-2 div.sk-item::before, #sk-container-id-2 div.sk-parallel-item::before {content: \"\";position: absolute;border-left: 1px solid gray;box-sizing: border-box;top: 0;bottom: 0;left: 50%;z-index: -1;}#sk-container-id-2 div.sk-parallel-item {display: flex;flex-direction: column;z-index: 1;position: relative;background-color: white;}#sk-container-id-2 div.sk-parallel-item:first-child::after {align-self: flex-end;width: 50%;}#sk-container-id-2 div.sk-parallel-item:last-child::after {align-self: flex-start;width: 50%;}#sk-container-id-2 div.sk-parallel-item:only-child::after {width: 0;}#sk-container-id-2 div.sk-dashed-wrapped {border: 1px dashed gray;margin: 0 0.4em 0.5em 0.4em;box-sizing: border-box;padding-bottom: 0.4em;background-color: white;}#sk-container-id-2 div.sk-label label {font-family: monospace;font-weight: bold;display: inline-block;line-height: 1.2em;}#sk-container-id-2 div.sk-label-container {text-align: center;}#sk-container-id-2 div.sk-container {/* jupyter's `normalize.less` sets `[hidden] { display: none; }` but bootstrap.min.css set `[hidden] { display: none !important; }` so we also need the `!important` here to be able to override the default hidden behavior on the sphinx rendered scikit-learn.org. See: https://github.com/scikit-learn/scikit-learn/issues/21755 */display: inline-block !important;position: relative;}#sk-container-id-2 div.sk-text-repr-fallback {display: none;}</style><div id=\"sk-container-id-2\" class=\"sk-top-container\"><div class=\"sk-text-repr-fallback\"><pre>GridSearchCV(cv=5, estimator=LogisticRegression(),\n",
       "             param_grid={&#x27;C&#x27;: [1, 2, 3, 4, 5, 6, 7, 8, 9, 10, 12, 13, 14, 15,\n",
       "                               16, 16.5, 17],\n",
       "                         &#x27;penalty&#x27;: [&#x27;l2&#x27;]},\n",
       "             scoring=&#x27;accuracy&#x27;)</pre><b>In a Jupyter environment, please rerun this cell to show the HTML representation or trust the notebook. <br />On GitHub, the HTML representation is unable to render, please try loading this page with nbviewer.org.</b></div><div class=\"sk-container\" hidden><div class=\"sk-item sk-dashed-wrapped\"><div class=\"sk-label-container\"><div class=\"sk-label sk-toggleable\"><input class=\"sk-toggleable__control sk-hidden--visually\" id=\"sk-estimator-id-2\" type=\"checkbox\" ><label for=\"sk-estimator-id-2\" class=\"sk-toggleable__label sk-toggleable__label-arrow\">GridSearchCV</label><div class=\"sk-toggleable__content\"><pre>GridSearchCV(cv=5, estimator=LogisticRegression(),\n",
       "             param_grid={&#x27;C&#x27;: [1, 2, 3, 4, 5, 6, 7, 8, 9, 10, 12, 13, 14, 15,\n",
       "                               16, 16.5, 17],\n",
       "                         &#x27;penalty&#x27;: [&#x27;l2&#x27;]},\n",
       "             scoring=&#x27;accuracy&#x27;)</pre></div></div></div><div class=\"sk-parallel\"><div class=\"sk-parallel-item\"><div class=\"sk-item\"><div class=\"sk-label-container\"><div class=\"sk-label sk-toggleable\"><input class=\"sk-toggleable__control sk-hidden--visually\" id=\"sk-estimator-id-3\" type=\"checkbox\" ><label for=\"sk-estimator-id-3\" class=\"sk-toggleable__label sk-toggleable__label-arrow\">estimator: LogisticRegression</label><div class=\"sk-toggleable__content\"><pre>LogisticRegression()</pre></div></div></div><div class=\"sk-serial\"><div class=\"sk-item\"><div class=\"sk-estimator sk-toggleable\"><input class=\"sk-toggleable__control sk-hidden--visually\" id=\"sk-estimator-id-4\" type=\"checkbox\" ><label for=\"sk-estimator-id-4\" class=\"sk-toggleable__label sk-toggleable__label-arrow\">LogisticRegression</label><div class=\"sk-toggleable__content\"><pre>LogisticRegression()</pre></div></div></div></div></div></div></div></div></div></div>"
      ],
      "text/plain": [
       "GridSearchCV(cv=5, estimator=LogisticRegression(),\n",
       "             param_grid={'C': [1, 2, 3, 4, 5, 6, 7, 8, 9, 10, 12, 13, 14, 15,\n",
       "                               16, 16.5, 17],\n",
       "                         'penalty': ['l2']},\n",
       "             scoring='accuracy')"
      ]
     },
     "execution_count": 53,
     "metadata": {},
     "output_type": "execute_result"
    }
   ],
   "source": [
    "C_vals = [1,2,3,4,5,6,7,8,9,10,12,13,14,15,16,16.5,17]\n",
    "penalties = ['l2']\n",
    "\n",
    "param = {'penalty': penalties, 'C': C_vals}\n",
    "\n",
    "## Calling on GridSearchCV object. \n",
    "grid_log = GridSearchCV(estimator=LogisticRegression(), \n",
    "                           param_grid = param,\n",
    "                           scoring = 'accuracy',\n",
    "                           cv = 5\n",
    "                          )\n",
    "## Fitting the model\n",
    "grid_log.fit(X_train, y_train)"
   ]
  },
  {
   "cell_type": "code",
   "execution_count": 54,
   "id": "7460243e",
   "metadata": {
    "execution": {
     "iopub.execute_input": "2024-07-11T18:41:38.322861Z",
     "iopub.status.busy": "2024-07-11T18:41:38.322437Z",
     "iopub.status.idle": "2024-07-11T18:41:38.341250Z",
     "shell.execute_reply": "2024-07-11T18:41:38.340031Z"
    },
    "papermill": {
     "duration": 0.071549,
     "end_time": "2024-07-11T18:41:38.344415",
     "exception": false,
     "start_time": "2024-07-11T18:41:38.272866",
     "status": "completed"
    },
    "tags": []
   },
   "outputs": [
    {
     "name": "stdout",
     "output_type": "stream",
     "text": [
      "Training Accuracy with GridSearch : 88.81 %\n",
      "Model Accuracy with GridSearch    : 89.0 %\n"
     ]
    }
   ],
   "source": [
    "### Using the best parameters from the grid-search.\n",
    "logreg_grid = grid_log.best_estimator_\n",
    "\n",
    "log_train_grid = round(logreg_grid.score(X_train, y_train) * 100, 2)\n",
    "log_accuracy_grid = logreg_grid.score(X_train,y_train).round(2)*100\n",
    "\n",
    "print(\"Training Accuracy with GridSearch :\",log_train_grid  ,\"%\")\n",
    "print(\"Model Accuracy with GridSearch    :\",log_accuracy_grid ,\"%\")"
   ]
  },
  {
   "cell_type": "code",
   "execution_count": 55,
   "id": "29ab2d70",
   "metadata": {
    "execution": {
     "iopub.execute_input": "2024-07-11T18:41:38.436018Z",
     "iopub.status.busy": "2024-07-11T18:41:38.435459Z",
     "iopub.status.idle": "2024-07-11T18:41:38.442146Z",
     "shell.execute_reply": "2024-07-11T18:41:38.441048Z"
    },
    "papermill": {
     "duration": 0.056157,
     "end_time": "2024-07-11T18:41:38.445494",
     "exception": false,
     "start_time": "2024-07-11T18:41:38.389337",
     "status": "completed"
    },
    "tags": []
   },
   "outputs": [],
   "source": [
    "preds = logreg_grid.predict(X_test)"
   ]
  },
  {
   "cell_type": "code",
   "execution_count": 56,
   "id": "e47a909b",
   "metadata": {
    "execution": {
     "iopub.execute_input": "2024-07-11T18:41:38.543659Z",
     "iopub.status.busy": "2024-07-11T18:41:38.543082Z",
     "iopub.status.idle": "2024-07-11T18:41:38.568283Z",
     "shell.execute_reply": "2024-07-11T18:41:38.567016Z"
    },
    "papermill": {
     "duration": 0.077463,
     "end_time": "2024-07-11T18:41:38.571448",
     "exception": false,
     "start_time": "2024-07-11T18:41:38.493985",
     "status": "completed"
    },
    "tags": []
   },
   "outputs": [],
   "source": [
    "# Assuming y_test is the true labels and y_pred are the predicted labels from your model\n",
    "f1 = f1_score(y_test, preds, average='weighted')\n",
    "precision = precision_score(y_test, preds, average='weighted', zero_division=0)\n",
    "recall = recall_score(y_test, preds, average='weighted')"
   ]
  },
  {
   "cell_type": "code",
   "execution_count": 57,
   "id": "d22b289b",
   "metadata": {
    "execution": {
     "iopub.execute_input": "2024-07-11T18:41:38.617252Z",
     "iopub.status.busy": "2024-07-11T18:41:38.616938Z",
     "iopub.status.idle": "2024-07-11T18:41:38.623859Z",
     "shell.execute_reply": "2024-07-11T18:41:38.622866Z"
    },
    "papermill": {
     "duration": 0.031374,
     "end_time": "2024-07-11T18:41:38.626013",
     "exception": false,
     "start_time": "2024-07-11T18:41:38.594639",
     "status": "completed"
    },
    "tags": []
   },
   "outputs": [
    {
     "name": "stdout",
     "output_type": "stream",
     "text": [
      "0.8306972617392548\n",
      "0.7828423702241719\n",
      "0.884783798576902\n"
     ]
    },
    {
     "data": {
      "text/plain": [
       "(None, None, None)"
      ]
     },
     "execution_count": 57,
     "metadata": {},
     "output_type": "execute_result"
    }
   ],
   "source": [
    "print(f1), print(precision), print(recall)"
   ]
  },
  {
   "cell_type": "markdown",
   "id": "2d477f4b",
   "metadata": {
    "papermill": {
     "duration": 0.021471,
     "end_time": "2024-07-11T18:41:38.669291",
     "exception": false,
     "start_time": "2024-07-11T18:41:38.647820",
     "status": "completed"
    },
    "tags": []
   },
   "source": [
    "# Gradient Boosting"
   ]
  },
  {
   "cell_type": "code",
   "execution_count": 58,
   "id": "a520fc85",
   "metadata": {
    "execution": {
     "iopub.execute_input": "2024-07-11T18:41:38.714530Z",
     "iopub.status.busy": "2024-07-11T18:41:38.714159Z",
     "iopub.status.idle": "2024-07-11T18:41:38.718458Z",
     "shell.execute_reply": "2024-07-11T18:41:38.717580Z"
    },
    "papermill": {
     "duration": 0.029336,
     "end_time": "2024-07-11T18:41:38.720450",
     "exception": false,
     "start_time": "2024-07-11T18:41:38.691114",
     "status": "completed"
    },
    "tags": []
   },
   "outputs": [],
   "source": [
    "from sklearn.ensemble import GradientBoostingClassifier"
   ]
  },
  {
   "cell_type": "code",
   "execution_count": 59,
   "id": "226f8c06",
   "metadata": {
    "execution": {
     "iopub.execute_input": "2024-07-11T18:41:38.765993Z",
     "iopub.status.busy": "2024-07-11T18:41:38.765017Z",
     "iopub.status.idle": "2024-07-11T18:41:40.417233Z",
     "shell.execute_reply": "2024-07-11T18:41:40.416297Z"
    },
    "papermill": {
     "duration": 1.677348,
     "end_time": "2024-07-11T18:41:40.419460",
     "exception": false,
     "start_time": "2024-07-11T18:41:38.742112",
     "status": "completed"
    },
    "tags": []
   },
   "outputs": [
    {
     "name": "stdout",
     "output_type": "stream",
     "text": [
      "Gradient Boosting Classifier accuracy is :  0.8894362342638205\n"
     ]
    }
   ],
   "source": [
    "gbc = GradientBoostingClassifier(n_estimators=300,\n",
    "                                 learning_rate=0.05,\n",
    "                                 random_state=100,\n",
    "                                 max_features=5 )\n",
    "# Fit to training set\n",
    "gbc.fit(X_train, y_train)\n",
    " \n",
    "# Predict on test set\n",
    "pred_y = gbc.predict(X_test)\n",
    " \n",
    "# accuracy\n",
    "acc = accuracy_score(y_test, pred_y)\n",
    "print(\"Gradient Boosting Classifier accuracy is : \", acc)"
   ]
  },
  {
   "cell_type": "code",
   "execution_count": 60,
   "id": "33cfa3c1",
   "metadata": {
    "execution": {
     "iopub.execute_input": "2024-07-11T18:41:40.464505Z",
     "iopub.status.busy": "2024-07-11T18:41:40.464129Z",
     "iopub.status.idle": "2024-07-11T18:41:40.476441Z",
     "shell.execute_reply": "2024-07-11T18:41:40.475332Z"
    },
    "papermill": {
     "duration": 0.037071,
     "end_time": "2024-07-11T18:41:40.478556",
     "exception": false,
     "start_time": "2024-07-11T18:41:40.441485",
     "status": "completed"
    },
    "tags": []
   },
   "outputs": [
    {
     "name": "stdout",
     "output_type": "stream",
     "text": [
      "      Phase  Sponsor  Condition  Enrollment  Actual  Predicted\n",
      "0         3        9        438          75     0.0          0\n",
      "1         3        9        246           0     NaN          0\n",
      "3         3        9        591           0     NaN          0\n",
      "6         5        9        163           0     0.0          0\n",
      "7         5        9        117           0     NaN          0\n",
      "...     ...      ...        ...         ...     ...        ...\n",
      "4139      6        6        361          44     0.0          0\n",
      "4140      5        6        211          94     0.0          0\n",
      "4141      1        6        543          12     0.0          0\n",
      "4142      5        6        144          95     0.0          0\n",
      "4143      5        6        293         248     NaN          0\n",
      "\n",
      "[3654 rows x 6 columns]\n"
     ]
    }
   ],
   "source": [
    "predictions_df = pd.DataFrame(df[:3654], columns=features)\n",
    "\n",
    "# Add a column for the actual values\n",
    "predictions_df['Actual'] = y_test\n",
    "\n",
    "# Add a column for the predicted values\n",
    "predictions_df['Predicted'] = pred_y\n",
    "\n",
    "# Display the DataFrame to see predictions for each condition\n",
    "print(predictions_df)"
   ]
  },
  {
   "cell_type": "code",
   "execution_count": 61,
   "id": "9a013383",
   "metadata": {
    "execution": {
     "iopub.execute_input": "2024-07-11T18:41:40.524969Z",
     "iopub.status.busy": "2024-07-11T18:41:40.523926Z",
     "iopub.status.idle": "2024-07-11T18:41:40.530715Z",
     "shell.execute_reply": "2024-07-11T18:41:40.529733Z"
    },
    "papermill": {
     "duration": 0.031854,
     "end_time": "2024-07-11T18:41:40.532680",
     "exception": false,
     "start_time": "2024-07-11T18:41:40.500826",
     "status": "completed"
    },
    "tags": []
   },
   "outputs": [],
   "source": [
    "predictions_df.dropna(inplace=True)"
   ]
  },
  {
   "cell_type": "code",
   "execution_count": 62,
   "id": "6d623f9f",
   "metadata": {
    "execution": {
     "iopub.execute_input": "2024-07-11T18:41:40.579158Z",
     "iopub.status.busy": "2024-07-11T18:41:40.578525Z",
     "iopub.status.idle": "2024-07-11T18:41:40.837974Z",
     "shell.execute_reply": "2024-07-11T18:41:40.837077Z"
    },
    "papermill": {
     "duration": 0.284264,
     "end_time": "2024-07-11T18:41:40.839942",
     "exception": false,
     "start_time": "2024-07-11T18:41:40.555678",
     "status": "completed"
    },
    "tags": []
   },
   "outputs": [
    {
     "data": {
      "image/png": "[encoded data removed]",
      "text/plain": [
       "<Figure size 600x500 with 2 Axes>"
      ]
     },
     "metadata": {},
     "output_type": "display_data"
    }
   ],
   "source": [
    "from sklearn.metrics import confusion_matrix\n",
    "import seaborn as sns\n",
    "import matplotlib.pyplot as plt\n",
    "\n",
    "# Compute the confusion matrix\n",
    "conf_matrix = confusion_matrix(predictions_df['Actual'], predictions_df['Predicted'])\n",
    "\n",
    "# Plot the confusion matrix\n",
    "plt.figure(figsize=(6, 5))\n",
    "sns.heatmap(conf_matrix, annot=True, fmt='d', cmap='Blues', xticklabels=df['Status'].unique(), yticklabels=df['Status'].unique())\n",
    "plt.xlabel('Predicted')\n",
    "plt.ylabel('Actual')\n",
    "plt.title('Confusion Matrix')\n",
    "plt.show()"
   ]
  },
  {
   "cell_type": "code",
   "execution_count": 63,
   "id": "17b84903",
   "metadata": {
    "execution": {
     "iopub.execute_input": "2024-07-11T18:41:40.885645Z",
     "iopub.status.busy": "2024-07-11T18:41:40.885291Z",
     "iopub.status.idle": "2024-07-11T18:42:27.731447Z",
     "shell.execute_reply": "2024-07-11T18:42:27.730471Z"
    },
    "papermill": {
     "duration": 46.894772,
     "end_time": "2024-07-11T18:42:27.756890",
     "exception": false,
     "start_time": "2024-07-11T18:41:40.862118",
     "status": "completed"
    },
    "tags": []
   },
   "outputs": [
    {
     "name": "stdout",
     "output_type": "stream",
     "text": [
      "Cross-Validation Scores: [0.89774859 0.88742964 0.88273921 0.90234742 0.90328638 0.90422535\n",
      " 0.88544601 0.90046948 0.88930582 0.87992495 0.90337711 0.88826291\n",
      " 0.90985915 0.90892019 0.88075117 0.90985915 0.89399625 0.89305816\n",
      " 0.9108818  0.88356808 0.89859155 0.88638498 0.90516432 0.89295775\n",
      " 0.88930582 0.89493433 0.89399625 0.89953052 0.91549296 0.88638498\n",
      " 0.89107981 0.90140845]\n"
     ]
    }
   ],
   "source": [
    "rkf1 = RepeatedKFold(n_splits=8, n_repeats=4, random_state=42)\n",
    "\n",
    "# Perform cross-validation\n",
    "cv_scores1 = cross_val_score(gbc, X_train, y_train, cv=rkf1)\n",
    "\n",
    "print(\"Cross-Validation Scores:\", cv_scores1)"
   ]
  },
  {
   "cell_type": "code",
   "execution_count": 64,
   "id": "e6c5fa8b",
   "metadata": {
    "execution": {
     "iopub.execute_input": "2024-07-11T18:42:27.802775Z",
     "iopub.status.busy": "2024-07-11T18:42:27.802372Z",
     "iopub.status.idle": "2024-07-11T18:42:27.807196Z",
     "shell.execute_reply": "2024-07-11T18:42:27.806336Z"
    },
    "papermill": {
     "duration": 0.030719,
     "end_time": "2024-07-11T18:42:27.809612",
     "exception": false,
     "start_time": "2024-07-11T18:42:27.778893",
     "status": "completed"
    },
    "tags": []
   },
   "outputs": [
    {
     "name": "stdout",
     "output_type": "stream",
     "text": [
      "Mean Accuracy for dataset1: 0.8959590170793366\n"
     ]
    }
   ],
   "source": [
    "mean_accuracy1 = cv_scores1.mean()\n",
    "print(\"Mean Accuracy for dataset1:\", mean_accuracy1)"
   ]
  },
  {
   "cell_type": "code",
   "execution_count": 65,
   "id": "5d816778",
   "metadata": {
    "execution": {
     "iopub.execute_input": "2024-07-11T18:42:27.856057Z",
     "iopub.status.busy": "2024-07-11T18:42:27.855731Z",
     "iopub.status.idle": "2024-07-11T18:42:27.871731Z",
     "shell.execute_reply": "2024-07-11T18:42:27.870771Z"
    },
    "papermill": {
     "duration": 0.041675,
     "end_time": "2024-07-11T18:42:27.873913",
     "exception": false,
     "start_time": "2024-07-11T18:42:27.832238",
     "status": "completed"
    },
    "tags": []
   },
   "outputs": [],
   "source": [
    "# Assuming y_test is the true labels and y_pred are the predicted labels from your model\n",
    "f1 = f1_score(y_test, pred_y, average='weighted')\n",
    "precision = precision_score(y_test, pred_y, average='weighted', zero_division=0)\n",
    "recall = recall_score(y_test, pred_y, average='weighted')"
   ]
  },
  {
   "cell_type": "code",
   "execution_count": 66,
   "id": "4ac48183",
   "metadata": {
    "execution": {
     "iopub.execute_input": "2024-07-11T18:42:27.919670Z",
     "iopub.status.busy": "2024-07-11T18:42:27.919288Z",
     "iopub.status.idle": "2024-07-11T18:42:27.926161Z",
     "shell.execute_reply": "2024-07-11T18:42:27.925274Z"
    },
    "papermill": {
     "duration": 0.031787,
     "end_time": "2024-07-11T18:42:27.928102",
     "exception": false,
     "start_time": "2024-07-11T18:42:27.896315",
     "status": "completed"
    },
    "tags": []
   },
   "outputs": [
    {
     "name": "stdout",
     "output_type": "stream",
     "text": [
      "0.8510624014299225\n",
      "0.864378313331801\n",
      "0.8894362342638205\n"
     ]
    },
    {
     "data": {
      "text/plain": [
       "(None, None, None)"
      ]
     },
     "execution_count": 66,
     "metadata": {},
     "output_type": "execute_result"
    }
   ],
   "source": [
    "print(f1), print(precision), print(recall)"
   ]
  }
 ],
 "metadata": {
  "kaggle": {
   "accelerator": "gpu",
   "dataSources": [
    {
     "datasetId": 2672707,
     "sourceId": 4582225,
     "sourceType": "datasetVersion"
    }
   ],
   "dockerImageVersionId": 30732,
   "isGpuEnabled": true,
   "isInternetEnabled": false,
   "language": "python",
   "sourceType": "notebook"
  },
  "kernelspec": {
   "display_name": "Python 3",
   "language": "python",
   "name": "python3"
  },
  "language_info": {
   "codemirror_mode": {
    "name": "ipython",
    "version": 3
   },
   "file_extension": ".py",
   "mimetype": "text/x-python",
   "name": "python",
   "nbconvert_exporter": "python",
   "pygments_lexer": "ipython3",
   "version": "3.10.13"
  },
  "papermill": {
   "default_parameters": {},
   "duration": 75.662115,
   "end_time": "2024-07-11T18:42:28.569996",
   "environment_variables": {},
   "exception": null,
   "input_path": "__notebook__.ipynb",
   "output_path": "__notebook__.ipynb",
   "parameters": {},
   "start_time": "2024-07-11T18:41:12.907881",
   "version": "2.5.0"
  }
 },
 "nbformat": 4,
 "nbformat_minor": 5
}
